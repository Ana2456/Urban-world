{
 "cells": [
  {
   "cell_type": "markdown",
   "metadata": {},
   "source": [
    "<p style=\"font-family: Arial; font-size:1.25em;color:#2462C0; font-style:bold\">\n",
    "Dataset 1</p>"
   ]
  },
  {
   "cell_type": "code",
   "execution_count": 1,
   "metadata": {
    "pycharm": {
     "is_executing": false
    }
   },
   "outputs": [
    {
     "ename": "ModuleNotFoundError",
     "evalue": "No module named 'pandas'",
     "output_type": "error",
     "traceback": [
      "\u001b[0;31m---------------------------------------------------------------------------\u001b[0m",
      "\u001b[0;31mModuleNotFoundError\u001b[0m                       Traceback (most recent call last)",
      "\u001b[0;32m<ipython-input-1-21a364ae5c1f>\u001b[0m in \u001b[0;36m<module>\u001b[0;34m\u001b[0m\n\u001b[0;32m----> 1\u001b[0;31m \u001b[0;32mimport\u001b[0m \u001b[0mpandas\u001b[0m \u001b[0;32mas\u001b[0m \u001b[0mpd\u001b[0m\u001b[0;34m\u001b[0m\u001b[0;34m\u001b[0m\u001b[0m\n\u001b[0m\u001b[1;32m      2\u001b[0m \u001b[0;32mimport\u001b[0m \u001b[0mos\u001b[0m\u001b[0;34m\u001b[0m\u001b[0;34m\u001b[0m\u001b[0m\n\u001b[1;32m      3\u001b[0m \u001b[0;32mimport\u001b[0m \u001b[0mnumpy\u001b[0m \u001b[0;32mas\u001b[0m \u001b[0mnp\u001b[0m\u001b[0;34m\u001b[0m\u001b[0;34m\u001b[0m\u001b[0m\n\u001b[1;32m      4\u001b[0m \u001b[0;32mimport\u001b[0m \u001b[0mmatplotlib\u001b[0m\u001b[0;34m.\u001b[0m\u001b[0mpyplot\u001b[0m \u001b[0;32mas\u001b[0m \u001b[0mplt\u001b[0m\u001b[0;34m\u001b[0m\u001b[0;34m\u001b[0m\u001b[0m\n\u001b[1;32m      5\u001b[0m \u001b[0;32mimport\u001b[0m \u001b[0mtensorflow\u001b[0m \u001b[0;32mas\u001b[0m \u001b[0mtf\u001b[0m\u001b[0;34m\u001b[0m\u001b[0;34m\u001b[0m\u001b[0m\n",
      "\u001b[0;31mModuleNotFoundError\u001b[0m: No module named 'pandas'"
     ]
    }
   ],
   "source": [
    "import pandas as pd\n",
    "import os\n",
    "import numpy as np\n",
    "import matplotlib.pyplot as plt\n",
    "import tensorflow as tf\n",
    "base_dir = os.path.abspath('..')      \n",
    "data_file = base_dir + r'/RunDataTable.tsv'\n",
    "relationship_def_file = base_dir + r'/RelationshipDefTable.tsv'\n",
    "relationship_data_file = base_dir + r'/RelationshipDataTable.tsv'\n",
    "summary_statistics_data_file = base_dir + r'/SummaryStatisticsDataTable.tsv'\n",
    "variable_def_table = base_dir + r'/VariableDefTable.tsv'\n",
    "base_dir"
   ]
  },
  {
   "cell_type": "code",
   "execution_count": 2,
   "metadata": {
    "pycharm": {
     "is_executing": false
    }
   },
   "outputs": [
    {
     "ename": "NameError",
     "evalue": "name 'pd' is not defined",
     "output_type": "error",
     "traceback": [
      "\u001b[0;31m---------------------------------------------------------------------------\u001b[0m",
      "\u001b[0;31mNameError\u001b[0m                                 Traceback (most recent call last)",
      "\u001b[0;32m<ipython-input-2-6a1d85fba85f>\u001b[0m in \u001b[0;36m<module>\u001b[0;34m\u001b[0m\n\u001b[0;32m----> 1\u001b[0;31m \u001b[0mdata\u001b[0m \u001b[0;34m=\u001b[0m \u001b[0mpd\u001b[0m\u001b[0;34m.\u001b[0m\u001b[0mread_table\u001b[0m\u001b[0;34m(\u001b[0m\u001b[0mdata_file\u001b[0m\u001b[0;34m,\u001b[0m\u001b[0mparse_dates\u001b[0m\u001b[0;34m=\u001b[0m\u001b[0;32mTrue\u001b[0m\u001b[0;34m)\u001b[0m\u001b[0;34m\u001b[0m\u001b[0;34m\u001b[0m\u001b[0m\n\u001b[0m\u001b[1;32m      2\u001b[0m \u001b[0mdata\u001b[0m\u001b[0;34m.\u001b[0m\u001b[0mhead\u001b[0m\u001b[0;34m(\u001b[0m\u001b[0;36m10\u001b[0m\u001b[0;34m)\u001b[0m\u001b[0;34m\u001b[0m\u001b[0;34m\u001b[0m\u001b[0m\n",
      "\u001b[0;31mNameError\u001b[0m: name 'pd' is not defined"
     ]
    }
   ],
   "source": [
    "data = pd.read_table(data_file,parse_dates=True)\n",
    "data.head(10)"
   ]
  },
  {
   "cell_type": "code",
   "execution_count": null,
   "metadata": {},
   "outputs": [],
   "source": [
    "data[data['VariableName']=='CurrentVisitor']"
   ]
  },
  {
   "cell_type": "code",
   "execution_count": null,
   "metadata": {},
   "outputs": [],
   "source": [
    "data['VariableName'].unique()"
   ]
  },
  {
   "cell_type": "code",
   "execution_count": null,
   "metadata": {},
   "outputs": [],
   "source": [
    "data[data['VariableName']=='Checkin']"
   ]
  },
  {
   "cell_type": "code",
   "execution_count": null,
   "metadata": {},
   "outputs": [],
   "source": [
    "temp=data[data['VariableName']=='Checkin']\n",
    "site_2629_checkin_data = temp[temp['Value']=='Site-2629']\n",
    "\n",
    "site_2629_checkin_data = site_2629_checkin_data.groupby('Timestep')[['EntityIdx']].count()\n",
    "# print(site_2629_checkin_data.head(50))\n",
    "site_2629_checkin_data.index = pd.to_datetime(site_2629_checkin_data.index)\n",
    "site_2629_checkin_data =  site_2629_checkin_data.resample('D').sum()\n",
    "site_2629_checkin_data.head(10)"
   ]
  },
  {
   "cell_type": "code",
   "execution_count": null,
   "metadata": {},
   "outputs": [],
   "source": [
    "temp=data[data['VariableName']=='CurrentVisitor']\n",
    "site_2629_data = temp[temp['EntityIdx']=='Site-2629']\n",
    "site_5298_data = temp[temp['EntityIdx']=='Site-5298']\n",
    "site_5299_data = temp[temp['EntityIdx']=='Site-5299']\n",
    "site_10648_data = temp[temp['EntityIdx']=='Site-10648']\n",
    "site_7976_data = temp[temp['EntityIdx']=='Site-7976']\n",
    "site_2629_data"
   ]
  },
  {
   "cell_type": "code",
   "execution_count": null,
   "metadata": {},
   "outputs": [],
   "source": [
    "site_2629_visit_data =  pd.DataFrame(site_2629_data.groupby('Timestep')['Value'].apply(' '.join))\n",
    "site_5298_visit_data =  pd.DataFrame(site_5298_data.groupby('Timestep')['Value'].apply(' '.join))\n",
    "site_5299_visit_data =  pd.DataFrame(site_5299_data.groupby('Timestep')['Value'].apply(' '.join))\n",
    "site_10648_visit_data =  pd.DataFrame(site_10648_data.groupby('Timestep')['Value'].apply(' '.join))\n",
    "site_7976_visit_data =  pd.DataFrame(site_7976_data.groupby('Timestep')['Value'].apply(' '.join))\n",
    "site_7976_visit_data"
   ]
  },
  {
   "cell_type": "code",
   "execution_count": null,
   "metadata": {},
   "outputs": [],
   "source": [
    "site_2629_visit_data['Prev_value'] = site_2629_visit_data.shift(1)['Value']\n",
    "site_5298_visit_data['Prev_value'] = site_5298_visit_data.shift(1)['Value']\n",
    "site_5299_visit_data['Prev_value'] = site_5299_visit_data.shift(1)['Value']\n",
    "site_10648_visit_data['Prev_value'] = site_10648_visit_data.shift(1)['Value']\n",
    "site_7976_visit_data['Prev_value'] = site_7976_visit_data.shift(1)['Value']\n",
    "site_7976_visit_data"
   ]
  },
  {
   "cell_type": "code",
   "execution_count": null,
   "metadata": {
    "scrolled": true
   },
   "outputs": [],
   "source": [
    "def func(x):\n",
    "#     print(x)\n",
    "    if pd.isna(x['Value'])==False:\n",
    "        a = set(x['Value'].split())\n",
    "    else:\n",
    "        a=set()\n",
    "    \n",
    "    if pd.isna(x['Prev_value'])==False:\n",
    "        b = set(x['Prev_value'].split())\n",
    "    else:\n",
    "        b = set()\n",
    "#     print(x, y, y.difference(x))\n",
    "    return len(a.difference(b))\n",
    "    \n",
    "# r =pd.DataFrame([func(x, y) for x, y in zip(df1['Value'], df2['Value'])])\n",
    "site_2629_visit_data['count']=site_2629_visit_data.apply(lambda x: func(x),  axis=1)\n",
    "site_2629_visit_data=site_2629_visit_data[['count']]\n",
    "\n",
    "site_5298_visit_data['count']=site_5298_visit_data.apply(lambda x: func(x),  axis=1)\n",
    "site_5298_visit_data=site_5298_visit_data[['count']]\n",
    "\n",
    "site_5299_visit_data['count']=site_5299_visit_data.apply(lambda x: func(x),  axis=1)\n",
    "site_5299_visit_data=site_5299_visit_data[['count']]\n",
    "\n",
    "site_10648_visit_data['count']=site_10648_visit_data.apply(lambda x: func(x),  axis=1)\n",
    "site_10648_visit_data=site_10648_visit_data[['count']]\n",
    "\n",
    "site_7976_visit_data['count']=site_7976_visit_data.apply(lambda x: func(x),  axis=1)\n",
    "site_7976_visit_data=site_7976_visit_data[['count']]"
   ]
  },
  {
   "cell_type": "code",
   "execution_count": null,
   "metadata": {
    "scrolled": true
   },
   "outputs": [],
   "source": [
    "site_2629_visit_data.index = pd.to_datetime(site_2629_visit_data.index)\n",
    "site_5298_visit_data.index = pd.to_datetime(site_5298_visit_data.index)\n",
    "site_5299_visit_data.index = pd.to_datetime(site_5299_visit_data.index)\n",
    "site_10648_visit_data.index = pd.to_datetime(site_10648_visit_data.index)\n",
    "site_7976_visit_data.index = pd.to_datetime(site_7976_visit_data.index)\n",
    "\n",
    "site_2629_visit_data=site_2629_visit_data.resample('D').sum()\n",
    "site_5298_visit_data=site_5298_visit_data.resample('D').sum()\n",
    "site_5299_visit_data=site_5299_visit_data.resample('D').sum()\n",
    "site_10648_visit_data=site_10648_visit_data.resample('D').sum()\n",
    "site_7976_visit_data=site_7976_visit_data.resample('D').sum()\n",
    "\n",
    "site_2629_visit_data"
   ]
  },
  {
   "cell_type": "code",
   "execution_count": null,
   "metadata": {},
   "outputs": [],
   "source": [
    "site_2629_visit_data.plot(subplots=True)"
   ]
  },
  {
   "cell_type": "code",
   "execution_count": null,
   "metadata": {},
   "outputs": [],
   "source": [
    "site_5298_visit_data.plot(subplots=True)"
   ]
  },
  {
   "cell_type": "code",
   "execution_count": null,
   "metadata": {},
   "outputs": [],
   "source": [
    "site_5299_visit_data.plot(subplots=True)"
   ]
  },
  {
   "cell_type": "code",
   "execution_count": null,
   "metadata": {},
   "outputs": [],
   "source": [
    "site_10648_visit_data.plot(subplots=True)"
   ]
  },
  {
   "cell_type": "code",
   "execution_count": null,
   "metadata": {},
   "outputs": [],
   "source": [
    "site_7976_visit_data.plot(subplots=True)"
   ]
  },
  {
   "cell_type": "code",
   "execution_count": null,
   "metadata": {},
   "outputs": [],
   "source": []
  },
  {
   "cell_type": "code",
   "execution_count": null,
   "metadata": {},
   "outputs": [],
   "source": [
    "relationship_def = pd.read_table(relationship_def_file)\n",
    "relationship_def.head(10)"
   ]
  },
  {
   "cell_type": "code",
   "execution_count": null,
   "metadata": {},
   "outputs": [],
   "source": [
    "relationship_data = pd.read_table(relationship_data_file)\n",
    "relationship_data.head(10)\n"
   ]
  },
  {
   "cell_type": "code",
   "execution_count": null,
   "metadata": {},
   "outputs": [],
   "source": [
    "summary_statistics_data = pd.read_table(summary_statistics_data_file,parse_dates=True, index_col=0)"
   ]
  },
  {
   "cell_type": "code",
   "execution_count": null,
   "metadata": {},
   "outputs": [],
   "source": [
    "summary_statistics_data[summary_statistics_data['VariableName']=='Population'].head(10)"
   ]
  },
  {
   "cell_type": "code",
   "execution_count": null,
   "metadata": {},
   "outputs": [],
   "source": [
    "summary_statistics_data['VariableName'].unique()"
   ]
  },
  {
   "cell_type": "code",
   "execution_count": null,
   "metadata": {},
   "outputs": [],
   "source": [
    "temp=summary_statistics_data[summary_statistics_data['VariableName']=='NumOfPeopleInSite']\n",
    "temp[temp['EntityIdx']=='Site-2629']\n",
    "temp[temp['EntityIdx']=='Site-5298']\n",
    "temp[temp['EntityIdx']=='Site-5299']\n",
    "temp[temp['EntityIdx']=='Site-10648']\n",
    "site_7976_visit_data = temp[temp['EntityIdx']=='Site-7976']['Value']\n",
    "site_7976_visit_data"
   ]
  },
  {
   "cell_type": "code",
   "execution_count": null,
   "metadata": {},
   "outputs": [],
   "source": [
    "site_7976_visit_data.plot(subplots=True)"
   ]
  },
  {
   "cell_type": "markdown",
   "metadata": {},
   "source": [
    "<p style=\"font-family: Arial; font-size:1.25em;color:#2462C0; font-style:bold\">\n",
    "Dataset 2</p>"
   ]
  },
  {
   "cell_type": "code",
   "execution_count": null,
   "metadata": {},
   "outputs": [],
   "source": [
    "initial_data_file = base_dir + r'/Urban World Predict Challenge Data/RunDataTable.tsv'\n",
    "rr_0260_data_file = base_dir + r'/Urban World Predict Challenge Data/RR-0260-RunDataTable.tsv'\n",
    "rr_0310_data_file = base_dir + r'/Urban World Predict Challenge Data/RR-0310-RunDataTable.tsv'\n",
    "rr_0320_data_file = base_dir + r'/Urban World Predict Challenge Data/RR-0320-RunDataTable.tsv'\n",
    "rr_0330_data_file = base_dir + r'/Urban World Predict Challenge Data/RR-0330-RunDataTable.tsv'\n",
    "rr_0340_qualitative_data_file = base_dir + r'/Urban World Predict Challenge Data/RR-0340-QualitativeDataTable.tsv'\n",
    "rr_0340_relationship_data_file = base_dir + r'/Urban World Predict Challenge Data/RR-0340-RelationshipDataTable.tsv'\n",
    "rr_0340_data_file = base_dir + r'/Urban World Predict Challenge Data/RR-0340-RunDataTable.tsv'\n",
    "rr_0370_qualitative_data_file = base_dir + r'/Urban World Predict Challenge Data/RR-0370-QualitativeDataTable.tsv'\n",
    "rr_0370_data_file = base_dir + r'/Urban World Predict Challenge Data/RR-0370-RunDataTable.tsv'\n",
    "rr_0380_data_file = base_dir + r'/Urban World Predict Challenge Data/RR-0380-RunDataTable.tsv'\n",
    "rr_0390_data_file = base_dir + r'/Urban World Predict Challenge Data/RR-0390-RunDataTable.tsv'\n",
    "idp_sup_data_file = base_dir + r'/Urban World Predict Challenge Data/IDP_SUP_RunDataTable.tsv'"
   ]
  },
  {
   "cell_type": "markdown",
   "metadata": {},
   "source": [
    "<p style=\"font-family: Arial; font-size:1.25em;color:#2462C0; font-style:bold\">\n",
    "Initial RunDataTable</p>"
   ]
  },
  {
   "cell_type": "code",
   "execution_count": null,
   "metadata": {},
   "outputs": [],
   "source": [
    "initial_data = pd.read_csv(initial_data_file,delimiter='\\t',encoding='utf-8', index_col=False)\n",
    "initial_data.head()"
   ]
  },
  {
   "cell_type": "code",
   "execution_count": null,
   "metadata": {},
   "outputs": [],
   "source": [
    "initial_data[\"VariableName\"].unique()"
   ]
  },
  {
   "cell_type": "code",
   "execution_count": null,
   "metadata": {},
   "outputs": [],
   "source": [
    "temp=initial_data[initial_data['VariableName']=='CurrentVisitor']\n",
    "site_2629_data_2 = temp[temp['EntityIdx']=='Site-2629']\n",
    "site_5298_data_2 = temp[temp['EntityIdx']=='Site-5298']\n",
    "site_5299_data_2 = temp[temp['EntityIdx']=='Site-5299']\n",
    "site_10648_data_2 = temp[temp['EntityIdx']=='Site-10648']\n",
    "site_7976_data_2 = temp[temp['EntityIdx']=='Site-7976']\n",
    "site_2629_data_2"
   ]
  },
  {
   "cell_type": "code",
   "execution_count": null,
   "metadata": {},
   "outputs": [],
   "source": [
    "site_2629_visit_data_2 =  pd.DataFrame(site_2629_data_2.groupby('Timestep')['Value'].apply(' '.join))\n",
    "site_5298_visit_data_2 =  pd.DataFrame(site_5298_data_2.groupby('Timestep')['Value'].apply(' '.join))\n",
    "site_5299_visit_data_2 =  pd.DataFrame(site_5299_data_2.groupby('Timestep')['Value'].apply(' '.join))\n",
    "site_10648_visit_data_2 =  pd.DataFrame(site_10648_data_2.groupby('Timestep')['Value'].apply(' '.join))\n",
    "site_7976_visit_data_2 =  pd.DataFrame(site_7976_data_2.groupby('Timestep')['Value'].apply(' '.join))\n",
    "site_2629_visit_data_2"
   ]
  },
  {
   "cell_type": "code",
   "execution_count": null,
   "metadata": {},
   "outputs": [],
   "source": [
    "site_2629_visit_data_2['Prev_value'] = site_2629_visit_data_2.shift(1)['Value']\n",
    "site_5298_visit_data_2['Prev_value'] = site_5298_visit_data_2.shift(1)['Value']\n",
    "site_5299_visit_data_2['Prev_value'] = site_5299_visit_data_2.shift(1)['Value']\n",
    "site_10648_visit_data_2['Prev_value'] = site_10648_visit_data_2.shift(1)['Value']\n",
    "site_7976_visit_data_2['Prev_value'] = site_7976_visit_data_2.shift(1)['Value']\n",
    "site_2629_visit_data_2"
   ]
  },
  {
   "cell_type": "code",
   "execution_count": null,
   "metadata": {},
   "outputs": [],
   "source": [
    "import numpy as np\n",
    "def func2(x):\n",
    "#     print(x)\n",
    "    if pd.isna(x['Value'])==False:\n",
    "        a = set(x['Value'].split())\n",
    "    else:\n",
    "        a=set()\n",
    "    \n",
    "    if pd.isna(x['Prev_value'])==False:\n",
    "        b = set(x['Prev_value'].split())\n",
    "    else:\n",
    "        b = set()\n",
    "#     print(x, y, y.difference(x))\n",
    "    return len(a.difference(b))\n",
    "    \n",
    "# r =pd.DataFrame([func(x, y) for x, y in zip(df1['Value'], df2['Value'])])\n",
    "site_2629_visit_data_2['count']=site_2629_visit_data_2.apply(lambda x: func2(x),  axis=1)\n",
    "site_2629_visit_data_2=site_2629_visit_data_2[['count']]\n",
    "\n",
    "site_5298_visit_data_2['count']=site_5298_visit_data_2.apply(lambda x: func2(x),  axis=1)\n",
    "site_5298_visit_data_2=site_5298_visit_data_2[['count']]\n",
    "\n",
    "site_5299_visit_data_2['count']=site_5299_visit_data_2.apply(lambda x: func2(x),  axis=1)\n",
    "site_5299_visit_data_2=site_5299_visit_data_2[['count']]\n",
    "\n",
    "site_10648_visit_data_2['count']=site_10648_visit_data_2.apply(lambda x: func2(x),  axis=1)\n",
    "site_10648_visit_data_2=site_10648_visit_data_2[['count']]\n",
    "\n",
    "site_7976_visit_data_2['count']=site_7976_visit_data_2.apply(lambda x: func2(x),  axis=1)\n",
    "site_7976_visit_data_2=site_7976_visit_data_2[['count']]\n",
    "site_2629_visit_data_2"
   ]
  },
  {
   "cell_type": "code",
   "execution_count": null,
   "metadata": {},
   "outputs": [],
   "source": [
    "site_2629_visit_data_2.index = pd.to_datetime(site_2629_visit_data_2.index)\n",
    "site_5298_visit_data_2.index = pd.to_datetime(site_5298_visit_data_2.index)\n",
    "site_5299_visit_data_2.index = pd.to_datetime(site_5299_visit_data_2.index)\n",
    "site_10648_visit_data_2.index = pd.to_datetime(site_10648_visit_data_2.index)\n",
    "site_7976_visit_data_2.index = pd.to_datetime(site_7976_visit_data_2.index)\n",
    "\n",
    "site_2629_visit_data_2=site_2629_visit_data_2.resample('D').sum()\n",
    "site_5298_visit_data_2=site_5298_visit_data_2.resample('D').sum()\n",
    "site_5299_visit_data_2=site_5299_visit_data_2.resample('D').sum()\n",
    "site_10648_visit_data_2=site_10648_visit_data_2.resample('D').sum()\n",
    "site_7976_visit_data_2=site_7976_visit_data_2.resample('D').sum()\n",
    "\n",
    "site_2629_visit_data_2"
   ]
  },
  {
   "cell_type": "code",
   "execution_count": null,
   "metadata": {},
   "outputs": [],
   "source": [
    "site_2629_visit_data_2.plot(subplots=True)"
   ]
  },
  {
   "cell_type": "code",
   "execution_count": null,
   "metadata": {},
   "outputs": [],
   "source": [
    "df = pd.concat([site_2629_visit_data, site_2629_visit_data_2])\n",
    "df.plot(subplots=True, figsize=(15, 10))\n",
    "df.head(121)\n",
    "y_pred = site_2629_visit_data.shift(1)\n",
    "y_pred\n",
    "\n"
   ]
  },
  {
   "cell_type": "markdown",
   "metadata": {},
   "source": [
    "<h1 style=\"font-size:2em;color:#2467C0\">Time series windowing</h1>"
   ]
  },
  {
   "cell_type": "code",
   "execution_count": null,
   "metadata": {},
   "outputs": [],
   "source": [
    "def univariate_data(dataset, start_index, end_index, history_size, target_size,  single_step=False):\n",
    "  data = []\n",
    "  labels = []\n",
    "\n",
    "  start_index = start_index + history_size\n",
    "  if end_index is None:\n",
    "    end_index = len(dataset) - target_size\n",
    "\n",
    "  for i in range(start_index, end_index):\n",
    "    indices = range(i-history_size, i)\n",
    "    # Reshape data from (history_size,) to (history_size, 1)\n",
    "#     print(dataset.shape)        \n",
    "    data.append(np.reshape(dataset[indices], (history_size, 1)))\n",
    "#     print(dataset.shape)\n",
    "#     labels.append(dataset[i+target_size])\n",
    "    if single_step:\n",
    "      labels.append(dataset[i+target_size])\n",
    "    else:\n",
    "      labels.append(dataset[i:i+target_size])\n",
    "    \n",
    "  return np.array(data), np.array(labels)\n",
    "\n",
    "def multivariate_data(dataset, target, start_index, end_index, history_size,\n",
    "                      target_size, step, single_step=False):\n",
    "  data = []\n",
    "  labels = []\n",
    "\n",
    "  start_index = start_index + history_size\n",
    "  if end_index is None:\n",
    "    end_index = len(dataset) - target_size\n",
    "\n",
    "  for i in range(start_index, end_index):\n",
    "    indices = range(i-history_size, i, step)\n",
    "    data.append(dataset[indices])\n",
    "\n",
    "    if single_step:\n",
    "      labels.append(target[i+target_size])\n",
    "    else:\n",
    "      labels.append(target[i:i+target_size])\n",
    "\n",
    "  return np.array(data), np.array(labels)\n",
    "\n",
    "def normalize(data, train_split):\n",
    "    mean = data[:TRAIN_SPLIT].mean()\n",
    "    std = data[:TRAIN_SPLIT].std()\n",
    "    data = (data-mean)/std\n",
    "    return data\n",
    "\n",
    "def create_time_steps(length):\n",
    "  time_steps = []\n",
    "  for i in range(-length, 0, 1):\n",
    "    time_steps.append(i)\n",
    "  return time_steps\n",
    "\n",
    "def show_plot(plot_data, delta, title):\n",
    "  labels = ['History', 'True Future', 'Model Prediction']\n",
    "  marker = ['.-', 'rx', 'go']\n",
    "  time_steps = create_time_steps(plot_data[0].shape[0])\n",
    "  if delta:\n",
    "    future = delta\n",
    "  else:\n",
    "    future = 0\n",
    "\n",
    "  plt.title(title)\n",
    "  for i, x in enumerate(plot_data):\n",
    "    if i:\n",
    "      plt.plot(future, plot_data[i], marker[i], markersize=10,\n",
    "               label=labels[i])\n",
    "    else:\n",
    "      plt.plot(time_steps, plot_data[i].flatten(), marker[i], label=labels[i])\n",
    "  plt.legend()\n",
    "  plt.xlim([time_steps[0], (future+5)*2])\n",
    "  plt.xlabel('Time-Step')\n",
    "  return plt\n",
    "\n",
    "def multi_step_plot(history, true_future, prediction):\n",
    "  plt.figure(figsize=(12, 6))\n",
    "  num_in = create_time_steps(len(history))\n",
    "  num_out = len(true_future)\n",
    "  STEP = 1\n",
    "\n",
    "  plt.plot(num_in, np.array(history), label='History')\n",
    "  plt.plot(np.arange(num_out)/STEP, np.array(true_future), 'bo',\n",
    "           label='True Future')\n",
    "  if prediction.any():\n",
    "    plt.plot(np.arange(num_out)/STEP, np.array(prediction), 'ro',\n",
    "             label='Predicted Future')\n",
    "  plt.legend(loc='upper left')\n",
    "  plt.show()"
   ]
  },
  {
   "cell_type": "code",
   "execution_count": null,
   "metadata": {},
   "outputs": [],
   "source": [
    "TRAIN_SPLIT = 60"
   ]
  },
  {
   "cell_type": "code",
   "execution_count": null,
   "metadata": {},
   "outputs": [],
   "source": [
    "site_2629_visit_values = normalize(site_2629_visit_data.values, TRAIN_SPLIT)\n",
    "site_2629_visit_values.shape"
   ]
  },
  {
   "cell_type": "code",
   "execution_count": null,
   "metadata": {},
   "outputs": [],
   "source": [
    "univariate_past_history = 5\n",
    "univariate_future_target = 5\n",
    "\n",
    "x_train, y_train = univariate_data(site_2629_visit_values, 0, TRAIN_SPLIT,\n",
    "                                           univariate_past_history,\n",
    "                                           univariate_future_target)\n",
    "x_val, y_val = univariate_data(site_2629_visit_values, TRAIN_SPLIT, None,\n",
    "                                       univariate_past_history,\n",
    "                                       univariate_future_target)"
   ]
  },
  {
   "cell_type": "code",
   "execution_count": null,
   "metadata": {},
   "outputs": [],
   "source": [
    "print ('Single window of past history')\n",
    "print (x_train[0])\n",
    "print(x_train.shape[-2:])\n",
    "print (x_train[2])\n",
    "print ('\\n Target temperature to predict')\n",
    "print (y_train[0])\n"
   ]
  },
  {
   "cell_type": "code",
   "execution_count": null,
   "metadata": {},
   "outputs": [],
   "source": [
    "# site_2629_visit_data.plot()\n",
    "multi_step_plot([x_train[0], y_train[0]], 0, 'site-2629-data')"
   ]
  },
  {
   "cell_type": "code",
   "execution_count": null,
   "metadata": {},
   "outputs": [],
   "source": [
    "import tensorflow as tf\n",
    "BUFFER_SIZE = 10000\n",
    "BATCH_SIZE = 100\n",
    "train_data = tf.data.Dataset.from_tensor_slices((x_train, y_train))\n",
    "train_data = train_data.cache().shuffle(BUFFER_SIZE).batch(BATCH_SIZE).repeat()\n",
    "\n",
    "val_data = tf.data.Dataset.from_tensor_slices((x_val, y_val))\n",
    "val_data = val_data.batch(BATCH_SIZE).repeat()"
   ]
  },
  {
   "cell_type": "code",
   "execution_count": null,
   "metadata": {},
   "outputs": [],
   "source": [
    "simple_lstm_model = tf.keras.models.Sequential([\n",
    "    tf.keras.layers.LSTM(8, input_shape=x_train.shape[-2:]),\n",
    "    tf.keras.layers.Dense(1)\n",
    "])\n",
    "\n",
    "simple_lstm_model.compile(optimizer='adam', loss='mae')"
   ]
  },
  {
   "cell_type": "code",
   "execution_count": null,
   "metadata": {},
   "outputs": [],
   "source": [
    "multi_step_model = tf.keras.models.Sequential()\n",
    "multi_step_model.add(tf.keras.layers.LSTM(16,\n",
    "                                          return_sequences=True,\n",
    "                                          input_shape=x_train.shape[-2:]))\n",
    "multi_step_model.add(tf.keras.layers.LSTM(8, activation='relu'))\n",
    "multi_step_model.add(tf.keras.layers.Dense(5))\n",
    "\n",
    "multi_step_model.compile(optimizer=tf.keras.optimizers.RMSprop(clipvalue=1.0), loss='mae')"
   ]
  },
  {
   "cell_type": "code",
   "execution_count": null,
   "metadata": {},
   "outputs": [],
   "source": []
  },
  {
   "cell_type": "code",
   "execution_count": null,
   "metadata": {},
   "outputs": [],
   "source": [
    "for x, y in val_data.take(1):\n",
    "    print(simple_lstm_model.predict(x).shape)"
   ]
  },
  {
   "cell_type": "code",
   "execution_count": null,
   "metadata": {},
   "outputs": [],
   "source": [
    "EVALUATION_INTERVAL = 200\n",
    "EPOCHS = 10\n",
    "\n",
    "multi_step_model.fit(train_data, epochs=EPOCHS,\n",
    "                      steps_per_epoch=EVALUATION_INTERVAL,\n",
    "                      validation_data=val_data, validation_steps=50)"
   ]
  },
  {
   "cell_type": "code",
   "execution_count": null,
   "metadata": {},
   "outputs": [],
   "source": [
    "for x, y in train_data.take(1):\n",
    "  multi_step_plot(x[0], y[0], multi_step_model.predict(x)[0])"
   ]
  },
  {
   "cell_type": "code",
   "execution_count": null,
   "metadata": {},
   "outputs": [],
   "source": [
    "df = pd.concat([site_5298_visit_data, site_5298_visit_data_2])\n",
    "site_5298_visit_data.plot(subplots=True, figsize=(15, 10))"
   ]
  },
  {
   "cell_type": "code",
   "execution_count": null,
   "metadata": {},
   "outputs": [],
   "source": []
  },
  {
   "cell_type": "code",
   "execution_count": null,
   "metadata": {},
   "outputs": [],
   "source": []
  },
  {
   "cell_type": "code",
   "execution_count": null,
   "metadata": {},
   "outputs": [],
   "source": [
    "df = pd.concat([site_5299_visit_data, site_5299_visit_data_2])\n",
    "df.plot(subplots=True, figsize=(15, 5))"
   ]
  },
  {
   "cell_type": "code",
   "execution_count": null,
   "metadata": {},
   "outputs": [],
   "source": [
    "df = pd.concat([site_10648_visit_data, site_10648_visit_data_2])\n",
    "df.plot(subplots=True, figsize=(15, 5))"
   ]
  },
  {
   "cell_type": "code",
   "execution_count": null,
   "metadata": {},
   "outputs": [],
   "source": [
    "df = pd.concat([site_7976_visit_data, site_7976_visit_data_2])\n",
    "df.plot(subplots=True, figsize=(15, 5))"
   ]
  },
  {
   "cell_type": "code",
   "execution_count": null,
   "metadata": {},
   "outputs": [],
   "source": [
    "rr_0260_data_file = base_dir + r'/Urban World Predict Challenge Data/RR-0260-RunDataTable.tsv'"
   ]
  },
  {
   "cell_type": "code",
   "execution_count": null,
   "metadata": {},
   "outputs": [],
   "source": [
    "rr_0260_data = pd.read_csv(rr_0260_data_file,delimiter='\\t',encoding='utf-8', index_col=False)\n",
    "del rr_0260_data['Notes']\n",
    "rr_0260_data.head()"
   ]
  },
  {
   "cell_type": "code",
   "execution_count": null,
   "metadata": {},
   "outputs": [],
   "source": [
    "rr_0260_data['VariableName'].unique()"
   ]
  },
  {
   "cell_type": "code",
   "execution_count": null,
   "metadata": {},
   "outputs": [],
   "source": [
    "temp=rr_0260_data[rr_0260_data['VariableName']=='Checkin']\n",
    "rr_0260_site_2629_checkin_data = temp[temp['Value']=='Site-2629']\n",
    "rr_0260_site_5298_checkin_data = temp[temp['Value']=='Site-5298']\n",
    "rr_0260_site_5299_checkin_data = temp[temp['Value']=='Site-5299']\n",
    "rr_0260_site_10648_checkin_data = temp[temp['Value']=='Site-10648']\n",
    "rr_0260_site_7976_checkin_data = temp[temp['Value']=='Site-7976']\n",
    "rr_0260_site_2629_checkin_data"
   ]
  },
  {
   "cell_type": "code",
   "execution_count": null,
   "metadata": {},
   "outputs": [],
   "source": [
    "rr_0260_site_2629_total_checkin_data = rr_0260_site_2629_checkin_data.groupby('Timestep')[['EntityIdx']].count()\n",
    "print(rr_0260_site_2629_total_checkin_data.count())\n",
    "rr_0260_site_2629_total_checkin_data.index = pd.to_datetime(rr_0260_site_2629_total_checkin_data.index)\n",
    "rr_0260_site_2629_total_checkin_data =  rr_0260_site_2629_total_checkin_data.resample('D').sum()\n",
    "rr_0260_site_2629_total_checkin_data.count()"
   ]
  },
  {
   "cell_type": "markdown",
   "metadata": {},
   "source": [
    "<p style=\"font-family: Arial; font-size:1.25em;color:#2462C0; font-style:bold\">\n",
    "rr_0260_data_file</p>"
   ]
  }
 ],
 "metadata": {
  "kernelspec": {
   "display_name": "Python 3",
   "language": "python",
   "name": "python3"
  },
  "language_info": {
   "codemirror_mode": {
    "name": "ipython",
    "version": 3
   },
   "file_extension": ".py",
   "mimetype": "text/x-python",
   "name": "python",
   "nbconvert_exporter": "python",
   "pygments_lexer": "ipython3",
   "version": "3.7.5"
  }
 },
 "nbformat": 4,
 "nbformat_minor": 4
}
