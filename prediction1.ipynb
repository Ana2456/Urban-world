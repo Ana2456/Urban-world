{
 "cells": [
  {
   "cell_type": "markdown",
   "metadata": {},
   "source": [
    "<p style=\"font-family: Arial; font-size:1.25em;color:#2462C0; font-style:bold\">\n",
    "Dataset 1</p>"
   ]
  },
  {
   "cell_type": "code",
   "execution_count": 1,
   "metadata": {
    "pycharm": {
     "is_executing": false,
     "name": "#%%\n"
    }
   },
   "outputs": [
    {
     "data": {
      "text/plain": [
       "'/home/workstation/PycharmProjects/urban world/data'"
      ]
     },
     "execution_count": 1,
     "metadata": {},
     "output_type": "execute_result"
    }
   ],
   "source": [
    "import pandas as pd\n",
    "import os\n",
    "import numpy as np\n",
    "import matplotlib.pyplot as plt\n",
    "import tensorflow as tf\n",
    "base_dir = os.path.abspath('../data')      \n",
    "data_file = base_dir + r'/RunDataTable.tsv'\n",
    "relationship_def_file = base_dir + r'/RelationshipDefTable.tsv'\n",
    "relationship_data_file = base_dir + r'/RelationshipDataTable.tsv'\n",
    "summary_statistics_data_file = base_dir + r'/SummaryStatisticsDataTable.tsv'\n",
    "variable_def_table = base_dir + r'/VariableDefTable.tsv'\n",
    "base_dir"
   ]
  },
  {
   "cell_type": "code",
   "execution_count": 2,
   "metadata": {
    "pycharm": {
     "is_executing": false
    }
   },
   "outputs": [
    {
     "data": {
      "text/html": [
       "<div>\n",
       "<style scoped>\n",
       "    .dataframe tbody tr th:only-of-type {\n",
       "        vertical-align: middle;\n",
       "    }\n",
       "\n",
       "    .dataframe tbody tr th {\n",
       "        vertical-align: top;\n",
       "    }\n",
       "\n",
       "    .dataframe thead th {\n",
       "        text-align: right;\n",
       "    }\n",
       "</style>\n",
       "<table border=\"1\" class=\"dataframe\">\n",
       "  <thead>\n",
       "    <tr style=\"text-align: right;\">\n",
       "      <th></th>\n",
       "      <th>Timestep</th>\n",
       "      <th>VariableName</th>\n",
       "      <th>EntityIdx</th>\n",
       "      <th>Value</th>\n",
       "      <th>Notes</th>\n",
       "    </tr>\n",
       "  </thead>\n",
       "  <tbody>\n",
       "    <tr>\n",
       "      <td>0</td>\n",
       "      <td>2019-08-01 00:00:00</td>\n",
       "      <td>CurrentVisitor</td>\n",
       "      <td>Site-2626</td>\n",
       "      <td>UID-be21339064</td>\n",
       "      <td>{\"Request\":\"2. General Visit Data\"}</td>\n",
       "    </tr>\n",
       "    <tr>\n",
       "      <td>1</td>\n",
       "      <td>2019-08-01 00:00:00</td>\n",
       "      <td>CurrentVisitor</td>\n",
       "      <td>Site-2626</td>\n",
       "      <td>UID-8b81c9c6c1</td>\n",
       "      <td>{\"Request\":\"2. General Visit Data\"}</td>\n",
       "    </tr>\n",
       "    <tr>\n",
       "      <td>2</td>\n",
       "      <td>2019-08-01 00:00:00</td>\n",
       "      <td>CurrentVisitor</td>\n",
       "      <td>Site-2626</td>\n",
       "      <td>UID-9b271286d9</td>\n",
       "      <td>{\"Request\":\"2. General Visit Data\"}</td>\n",
       "    </tr>\n",
       "    <tr>\n",
       "      <td>3</td>\n",
       "      <td>2019-08-01 00:00:00</td>\n",
       "      <td>CurrentVisitor</td>\n",
       "      <td>Site-2626</td>\n",
       "      <td>UID-83f46b5710</td>\n",
       "      <td>{\"Request\":\"2. General Visit Data\"}</td>\n",
       "    </tr>\n",
       "    <tr>\n",
       "      <td>4</td>\n",
       "      <td>2019-08-01 00:00:00</td>\n",
       "      <td>CurrentVisitor</td>\n",
       "      <td>Site-2626</td>\n",
       "      <td>UID-e543e73d48</td>\n",
       "      <td>{\"Request\":\"2. General Visit Data\"}</td>\n",
       "    </tr>\n",
       "    <tr>\n",
       "      <td>5</td>\n",
       "      <td>2019-08-01 00:00:00</td>\n",
       "      <td>CurrentVisitor</td>\n",
       "      <td>Site-2626</td>\n",
       "      <td>UID-b8c0f61545</td>\n",
       "      <td>{\"Request\":\"2. General Visit Data\"}</td>\n",
       "    </tr>\n",
       "    <tr>\n",
       "      <td>6</td>\n",
       "      <td>2019-08-01 00:00:00</td>\n",
       "      <td>CurrentVisitor</td>\n",
       "      <td>Site-2626</td>\n",
       "      <td>UID-9bdd784e2b</td>\n",
       "      <td>{\"Request\":\"2. General Visit Data\"}</td>\n",
       "    </tr>\n",
       "    <tr>\n",
       "      <td>7</td>\n",
       "      <td>2019-08-01 00:00:00</td>\n",
       "      <td>CurrentVisitor</td>\n",
       "      <td>Site-2626</td>\n",
       "      <td>UID-c676760f74</td>\n",
       "      <td>{\"Request\":\"2. General Visit Data\"}</td>\n",
       "    </tr>\n",
       "    <tr>\n",
       "      <td>8</td>\n",
       "      <td>2019-08-01 00:00:00</td>\n",
       "      <td>CurrentVisitor</td>\n",
       "      <td>Site-2629</td>\n",
       "      <td>UID-3f2eca3a94</td>\n",
       "      <td>{\"Request\":\"2. General Visit Data\"}</td>\n",
       "    </tr>\n",
       "    <tr>\n",
       "      <td>9</td>\n",
       "      <td>2019-08-01 00:00:00</td>\n",
       "      <td>CurrentVisitor</td>\n",
       "      <td>Site-2629</td>\n",
       "      <td>UID-68dacdaf66</td>\n",
       "      <td>{\"Request\":\"2. General Visit Data\"}</td>\n",
       "    </tr>\n",
       "  </tbody>\n",
       "</table>\n",
       "</div>"
      ],
      "text/plain": [
       "              Timestep    VariableName  EntityIdx           Value  \\\n",
       "0  2019-08-01 00:00:00  CurrentVisitor  Site-2626  UID-be21339064   \n",
       "1  2019-08-01 00:00:00  CurrentVisitor  Site-2626  UID-8b81c9c6c1   \n",
       "2  2019-08-01 00:00:00  CurrentVisitor  Site-2626  UID-9b271286d9   \n",
       "3  2019-08-01 00:00:00  CurrentVisitor  Site-2626  UID-83f46b5710   \n",
       "4  2019-08-01 00:00:00  CurrentVisitor  Site-2626  UID-e543e73d48   \n",
       "5  2019-08-01 00:00:00  CurrentVisitor  Site-2626  UID-b8c0f61545   \n",
       "6  2019-08-01 00:00:00  CurrentVisitor  Site-2626  UID-9bdd784e2b   \n",
       "7  2019-08-01 00:00:00  CurrentVisitor  Site-2626  UID-c676760f74   \n",
       "8  2019-08-01 00:00:00  CurrentVisitor  Site-2629  UID-3f2eca3a94   \n",
       "9  2019-08-01 00:00:00  CurrentVisitor  Site-2629  UID-68dacdaf66   \n",
       "\n",
       "                                 Notes  \n",
       "0  {\"Request\":\"2. General Visit Data\"}  \n",
       "1  {\"Request\":\"2. General Visit Data\"}  \n",
       "2  {\"Request\":\"2. General Visit Data\"}  \n",
       "3  {\"Request\":\"2. General Visit Data\"}  \n",
       "4  {\"Request\":\"2. General Visit Data\"}  \n",
       "5  {\"Request\":\"2. General Visit Data\"}  \n",
       "6  {\"Request\":\"2. General Visit Data\"}  \n",
       "7  {\"Request\":\"2. General Visit Data\"}  \n",
       "8  {\"Request\":\"2. General Visit Data\"}  \n",
       "9  {\"Request\":\"2. General Visit Data\"}  "
      ]
     },
     "execution_count": 2,
     "metadata": {},
     "output_type": "execute_result"
    }
   ],
   "source": [
    "data = pd.read_table(data_file,parse_dates=True)\n",
    "data.head(10)"
   ]
  },
  {
   "cell_type": "code",
   "execution_count": 3,
   "metadata": {},
   "outputs": [
    {
     "data": {
      "text/html": [
       "<div>\n",
       "<style scoped>\n",
       "    .dataframe tbody tr th:only-of-type {\n",
       "        vertical-align: middle;\n",
       "    }\n",
       "\n",
       "    .dataframe tbody tr th {\n",
       "        vertical-align: top;\n",
       "    }\n",
       "\n",
       "    .dataframe thead th {\n",
       "        text-align: right;\n",
       "    }\n",
       "</style>\n",
       "<table border=\"1\" class=\"dataframe\">\n",
       "  <thead>\n",
       "    <tr style=\"text-align: right;\">\n",
       "      <th></th>\n",
       "      <th>Timestep</th>\n",
       "      <th>VariableName</th>\n",
       "      <th>EntityIdx</th>\n",
       "      <th>Value</th>\n",
       "      <th>Notes</th>\n",
       "    </tr>\n",
       "  </thead>\n",
       "  <tbody>\n",
       "    <tr>\n",
       "      <td>0</td>\n",
       "      <td>2019-08-01 00:00:00</td>\n",
       "      <td>CurrentVisitor</td>\n",
       "      <td>Site-2626</td>\n",
       "      <td>UID-be21339064</td>\n",
       "      <td>{\"Request\":\"2. General Visit Data\"}</td>\n",
       "    </tr>\n",
       "    <tr>\n",
       "      <td>1</td>\n",
       "      <td>2019-08-01 00:00:00</td>\n",
       "      <td>CurrentVisitor</td>\n",
       "      <td>Site-2626</td>\n",
       "      <td>UID-8b81c9c6c1</td>\n",
       "      <td>{\"Request\":\"2. General Visit Data\"}</td>\n",
       "    </tr>\n",
       "    <tr>\n",
       "      <td>2</td>\n",
       "      <td>2019-08-01 00:00:00</td>\n",
       "      <td>CurrentVisitor</td>\n",
       "      <td>Site-2626</td>\n",
       "      <td>UID-9b271286d9</td>\n",
       "      <td>{\"Request\":\"2. General Visit Data\"}</td>\n",
       "    </tr>\n",
       "    <tr>\n",
       "      <td>3</td>\n",
       "      <td>2019-08-01 00:00:00</td>\n",
       "      <td>CurrentVisitor</td>\n",
       "      <td>Site-2626</td>\n",
       "      <td>UID-83f46b5710</td>\n",
       "      <td>{\"Request\":\"2. General Visit Data\"}</td>\n",
       "    </tr>\n",
       "    <tr>\n",
       "      <td>4</td>\n",
       "      <td>2019-08-01 00:00:00</td>\n",
       "      <td>CurrentVisitor</td>\n",
       "      <td>Site-2626</td>\n",
       "      <td>UID-e543e73d48</td>\n",
       "      <td>{\"Request\":\"2. General Visit Data\"}</td>\n",
       "    </tr>\n",
       "    <tr>\n",
       "      <td>...</td>\n",
       "      <td>...</td>\n",
       "      <td>...</td>\n",
       "      <td>...</td>\n",
       "      <td>...</td>\n",
       "      <td>...</td>\n",
       "    </tr>\n",
       "    <tr>\n",
       "      <td>12875097</td>\n",
       "      <td>2019-10-31 23:50:00</td>\n",
       "      <td>CurrentVisitor</td>\n",
       "      <td>Site-2660</td>\n",
       "      <td>UID-ec7ad67a0f</td>\n",
       "      <td>{\"Request\":\"2. General Visit Data\"}</td>\n",
       "    </tr>\n",
       "    <tr>\n",
       "      <td>12875098</td>\n",
       "      <td>2019-10-31 23:50:00</td>\n",
       "      <td>CurrentVisitor</td>\n",
       "      <td>Site-5333</td>\n",
       "      <td>UID-e58d931b22</td>\n",
       "      <td>{\"Request\":\"2. General Visit Data\"}</td>\n",
       "    </tr>\n",
       "    <tr>\n",
       "      <td>12875099</td>\n",
       "      <td>2019-10-31 23:50:00</td>\n",
       "      <td>CurrentVisitor</td>\n",
       "      <td>Site-7990</td>\n",
       "      <td>UID-fcbbb19805</td>\n",
       "      <td>{\"Request\":\"2. General Visit Data\"}</td>\n",
       "    </tr>\n",
       "    <tr>\n",
       "      <td>12875100</td>\n",
       "      <td>2019-10-31 23:55:00</td>\n",
       "      <td>CurrentVisitor</td>\n",
       "      <td>Site-5333</td>\n",
       "      <td>UID-e58d931b22</td>\n",
       "      <td>{\"Request\":\"2. General Visit Data\"}</td>\n",
       "    </tr>\n",
       "    <tr>\n",
       "      <td>12875101</td>\n",
       "      <td>2019-10-31 23:55:00</td>\n",
       "      <td>CurrentVisitor</td>\n",
       "      <td>Site-7984</td>\n",
       "      <td>UID-63fd2226a3</td>\n",
       "      <td>{\"Request\":\"2. General Visit Data\"}</td>\n",
       "    </tr>\n",
       "  </tbody>\n",
       "</table>\n",
       "<p>9452468 rows × 5 columns</p>\n",
       "</div>"
      ],
      "text/plain": [
       "                     Timestep    VariableName  EntityIdx           Value  \\\n",
       "0         2019-08-01 00:00:00  CurrentVisitor  Site-2626  UID-be21339064   \n",
       "1         2019-08-01 00:00:00  CurrentVisitor  Site-2626  UID-8b81c9c6c1   \n",
       "2         2019-08-01 00:00:00  CurrentVisitor  Site-2626  UID-9b271286d9   \n",
       "3         2019-08-01 00:00:00  CurrentVisitor  Site-2626  UID-83f46b5710   \n",
       "4         2019-08-01 00:00:00  CurrentVisitor  Site-2626  UID-e543e73d48   \n",
       "...                       ...             ...        ...             ...   \n",
       "12875097  2019-10-31 23:50:00  CurrentVisitor  Site-2660  UID-ec7ad67a0f   \n",
       "12875098  2019-10-31 23:50:00  CurrentVisitor  Site-5333  UID-e58d931b22   \n",
       "12875099  2019-10-31 23:50:00  CurrentVisitor  Site-7990  UID-fcbbb19805   \n",
       "12875100  2019-10-31 23:55:00  CurrentVisitor  Site-5333  UID-e58d931b22   \n",
       "12875101  2019-10-31 23:55:00  CurrentVisitor  Site-7984  UID-63fd2226a3   \n",
       "\n",
       "                                        Notes  \n",
       "0         {\"Request\":\"2. General Visit Data\"}  \n",
       "1         {\"Request\":\"2. General Visit Data\"}  \n",
       "2         {\"Request\":\"2. General Visit Data\"}  \n",
       "3         {\"Request\":\"2. General Visit Data\"}  \n",
       "4         {\"Request\":\"2. General Visit Data\"}  \n",
       "...                                       ...  \n",
       "12875097  {\"Request\":\"2. General Visit Data\"}  \n",
       "12875098  {\"Request\":\"2. General Visit Data\"}  \n",
       "12875099  {\"Request\":\"2. General Visit Data\"}  \n",
       "12875100  {\"Request\":\"2. General Visit Data\"}  \n",
       "12875101  {\"Request\":\"2. General Visit Data\"}  \n",
       "\n",
       "[9452468 rows x 5 columns]"
      ]
     },
     "execution_count": 3,
     "metadata": {},
     "output_type": "execute_result"
    }
   ],
   "source": [
    "data[data['VariableName']=='CurrentVisitor']"
   ]
  },
  {
   "cell_type": "code",
   "execution_count": null,
   "metadata": {},
   "outputs": [],
   "source": [
    "data['VariableName'].unique()"
   ]
  },
  {
   "cell_type": "code",
   "execution_count": null,
   "metadata": {},
   "outputs": [],
   "source": [
    "data[data['VariableName']=='Checkin']"
   ]
  },
  {
   "cell_type": "code",
   "execution_count": 4,
   "metadata": {},
   "outputs": [
    {
     "data": {
      "text/html": [
       "<div>\n",
       "<style scoped>\n",
       "    .dataframe tbody tr th:only-of-type {\n",
       "        vertical-align: middle;\n",
       "    }\n",
       "\n",
       "    .dataframe tbody tr th {\n",
       "        vertical-align: top;\n",
       "    }\n",
       "\n",
       "    .dataframe thead th {\n",
       "        text-align: right;\n",
       "    }\n",
       "</style>\n",
       "<table border=\"1\" class=\"dataframe\">\n",
       "  <thead>\n",
       "    <tr style=\"text-align: right;\">\n",
       "      <th></th>\n",
       "      <th>EntityIdx</th>\n",
       "    </tr>\n",
       "    <tr>\n",
       "      <th>Timestep</th>\n",
       "      <th></th>\n",
       "    </tr>\n",
       "  </thead>\n",
       "  <tbody>\n",
       "    <tr>\n",
       "      <td>2019-08-01</td>\n",
       "      <td>3</td>\n",
       "    </tr>\n",
       "    <tr>\n",
       "      <td>2019-08-02</td>\n",
       "      <td>8</td>\n",
       "    </tr>\n",
       "    <tr>\n",
       "      <td>2019-08-03</td>\n",
       "      <td>11</td>\n",
       "    </tr>\n",
       "    <tr>\n",
       "      <td>2019-08-04</td>\n",
       "      <td>16</td>\n",
       "    </tr>\n",
       "    <tr>\n",
       "      <td>2019-08-05</td>\n",
       "      <td>7</td>\n",
       "    </tr>\n",
       "    <tr>\n",
       "      <td>2019-08-06</td>\n",
       "      <td>4</td>\n",
       "    </tr>\n",
       "    <tr>\n",
       "      <td>2019-08-07</td>\n",
       "      <td>8</td>\n",
       "    </tr>\n",
       "    <tr>\n",
       "      <td>2019-08-08</td>\n",
       "      <td>9</td>\n",
       "    </tr>\n",
       "    <tr>\n",
       "      <td>2019-08-09</td>\n",
       "      <td>9</td>\n",
       "    </tr>\n",
       "    <tr>\n",
       "      <td>2019-08-10</td>\n",
       "      <td>18</td>\n",
       "    </tr>\n",
       "  </tbody>\n",
       "</table>\n",
       "</div>"
      ],
      "text/plain": [
       "            EntityIdx\n",
       "Timestep             \n",
       "2019-08-01          3\n",
       "2019-08-02          8\n",
       "2019-08-03         11\n",
       "2019-08-04         16\n",
       "2019-08-05          7\n",
       "2019-08-06          4\n",
       "2019-08-07          8\n",
       "2019-08-08          9\n",
       "2019-08-09          9\n",
       "2019-08-10         18"
      ]
     },
     "execution_count": 4,
     "metadata": {},
     "output_type": "execute_result"
    }
   ],
   "source": [
    "temp=data[data['VariableName']=='Checkin']\n",
    "site_2629_checkin_data = temp[temp['Value']=='Site-2629']\n",
    "\n",
    "site_2629_checkin_data = site_2629_checkin_data.groupby('Timestep')[['EntityIdx']].count()\n",
    "# print(site_2629_checkin_data.head(50))\n",
    "site_2629_checkin_data.index = pd.to_datetime(site_2629_checkin_data.index)\n",
    "site_2629_checkin_data =  site_2629_checkin_data.resample('D').sum()\n",
    "site_2629_checkin_data.head(10)"
   ]
  },
  {
   "cell_type": "code",
   "execution_count": 5,
   "metadata": {},
   "outputs": [
    {
     "data": {
      "text/html": [
       "<div>\n",
       "<style scoped>\n",
       "    .dataframe tbody tr th:only-of-type {\n",
       "        vertical-align: middle;\n",
       "    }\n",
       "\n",
       "    .dataframe tbody tr th {\n",
       "        vertical-align: top;\n",
       "    }\n",
       "\n",
       "    .dataframe thead th {\n",
       "        text-align: right;\n",
       "    }\n",
       "</style>\n",
       "<table border=\"1\" class=\"dataframe\">\n",
       "  <thead>\n",
       "    <tr style=\"text-align: right;\">\n",
       "      <th></th>\n",
       "      <th>Timestep</th>\n",
       "      <th>VariableName</th>\n",
       "      <th>EntityIdx</th>\n",
       "      <th>Value</th>\n",
       "      <th>Notes</th>\n",
       "    </tr>\n",
       "  </thead>\n",
       "  <tbody>\n",
       "    <tr>\n",
       "      <td>8</td>\n",
       "      <td>2019-08-01 00:00:00</td>\n",
       "      <td>CurrentVisitor</td>\n",
       "      <td>Site-2629</td>\n",
       "      <td>UID-3f2eca3a94</td>\n",
       "      <td>{\"Request\":\"2. General Visit Data\"}</td>\n",
       "    </tr>\n",
       "    <tr>\n",
       "      <td>9</td>\n",
       "      <td>2019-08-01 00:00:00</td>\n",
       "      <td>CurrentVisitor</td>\n",
       "      <td>Site-2629</td>\n",
       "      <td>UID-68dacdaf66</td>\n",
       "      <td>{\"Request\":\"2. General Visit Data\"}</td>\n",
       "    </tr>\n",
       "    <tr>\n",
       "      <td>10</td>\n",
       "      <td>2019-08-01 00:00:00</td>\n",
       "      <td>CurrentVisitor</td>\n",
       "      <td>Site-2629</td>\n",
       "      <td>UID-b64daba2a4</td>\n",
       "      <td>{\"Request\":\"2. General Visit Data\"}</td>\n",
       "    </tr>\n",
       "    <tr>\n",
       "      <td>11</td>\n",
       "      <td>2019-08-01 00:00:00</td>\n",
       "      <td>CurrentVisitor</td>\n",
       "      <td>Site-2629</td>\n",
       "      <td>UID-1675bc4207</td>\n",
       "      <td>{\"Request\":\"2. General Visit Data\"}</td>\n",
       "    </tr>\n",
       "    <tr>\n",
       "      <td>12</td>\n",
       "      <td>2019-08-01 00:00:00</td>\n",
       "      <td>CurrentVisitor</td>\n",
       "      <td>Site-2629</td>\n",
       "      <td>UID-75549d715f</td>\n",
       "      <td>{\"Request\":\"2. General Visit Data\"}</td>\n",
       "    </tr>\n",
       "    <tr>\n",
       "      <td>...</td>\n",
       "      <td>...</td>\n",
       "      <td>...</td>\n",
       "      <td>...</td>\n",
       "      <td>...</td>\n",
       "      <td>...</td>\n",
       "    </tr>\n",
       "    <tr>\n",
       "      <td>12098295</td>\n",
       "      <td>2019-10-31 23:50:00</td>\n",
       "      <td>CurrentVisitor</td>\n",
       "      <td>Site-2629</td>\n",
       "      <td>UID-323b6cf781</td>\n",
       "      <td>{\"Request\":\"2. General Visit Data\"}</td>\n",
       "    </tr>\n",
       "    <tr>\n",
       "      <td>12098296</td>\n",
       "      <td>2019-10-31 23:50:00</td>\n",
       "      <td>CurrentVisitor</td>\n",
       "      <td>Site-2629</td>\n",
       "      <td>UID-20cbbe1d8d</td>\n",
       "      <td>{\"Request\":\"2. General Visit Data\"}</td>\n",
       "    </tr>\n",
       "    <tr>\n",
       "      <td>12098343</td>\n",
       "      <td>2019-10-31 23:55:00</td>\n",
       "      <td>CurrentVisitor</td>\n",
       "      <td>Site-2629</td>\n",
       "      <td>UID-84b507f542</td>\n",
       "      <td>{\"Request\":\"2. General Visit Data\"}</td>\n",
       "    </tr>\n",
       "    <tr>\n",
       "      <td>12098344</td>\n",
       "      <td>2019-10-31 23:55:00</td>\n",
       "      <td>CurrentVisitor</td>\n",
       "      <td>Site-2629</td>\n",
       "      <td>UID-323b6cf781</td>\n",
       "      <td>{\"Request\":\"2. General Visit Data\"}</td>\n",
       "    </tr>\n",
       "    <tr>\n",
       "      <td>12098345</td>\n",
       "      <td>2019-10-31 23:55:00</td>\n",
       "      <td>CurrentVisitor</td>\n",
       "      <td>Site-2629</td>\n",
       "      <td>UID-20cbbe1d8d</td>\n",
       "      <td>{\"Request\":\"2. General Visit Data\"}</td>\n",
       "    </tr>\n",
       "  </tbody>\n",
       "</table>\n",
       "<p>290746 rows × 5 columns</p>\n",
       "</div>"
      ],
      "text/plain": [
       "                     Timestep    VariableName  EntityIdx           Value  \\\n",
       "8         2019-08-01 00:00:00  CurrentVisitor  Site-2629  UID-3f2eca3a94   \n",
       "9         2019-08-01 00:00:00  CurrentVisitor  Site-2629  UID-68dacdaf66   \n",
       "10        2019-08-01 00:00:00  CurrentVisitor  Site-2629  UID-b64daba2a4   \n",
       "11        2019-08-01 00:00:00  CurrentVisitor  Site-2629  UID-1675bc4207   \n",
       "12        2019-08-01 00:00:00  CurrentVisitor  Site-2629  UID-75549d715f   \n",
       "...                       ...             ...        ...             ...   \n",
       "12098295  2019-10-31 23:50:00  CurrentVisitor  Site-2629  UID-323b6cf781   \n",
       "12098296  2019-10-31 23:50:00  CurrentVisitor  Site-2629  UID-20cbbe1d8d   \n",
       "12098343  2019-10-31 23:55:00  CurrentVisitor  Site-2629  UID-84b507f542   \n",
       "12098344  2019-10-31 23:55:00  CurrentVisitor  Site-2629  UID-323b6cf781   \n",
       "12098345  2019-10-31 23:55:00  CurrentVisitor  Site-2629  UID-20cbbe1d8d   \n",
       "\n",
       "                                        Notes  \n",
       "8         {\"Request\":\"2. General Visit Data\"}  \n",
       "9         {\"Request\":\"2. General Visit Data\"}  \n",
       "10        {\"Request\":\"2. General Visit Data\"}  \n",
       "11        {\"Request\":\"2. General Visit Data\"}  \n",
       "12        {\"Request\":\"2. General Visit Data\"}  \n",
       "...                                       ...  \n",
       "12098295  {\"Request\":\"2. General Visit Data\"}  \n",
       "12098296  {\"Request\":\"2. General Visit Data\"}  \n",
       "12098343  {\"Request\":\"2. General Visit Data\"}  \n",
       "12098344  {\"Request\":\"2. General Visit Data\"}  \n",
       "12098345  {\"Request\":\"2. General Visit Data\"}  \n",
       "\n",
       "[290746 rows x 5 columns]"
      ]
     },
     "execution_count": 5,
     "metadata": {},
     "output_type": "execute_result"
    }
   ],
   "source": [
    "temp=data[data['VariableName']=='CurrentVisitor']\n",
    "site_2629_data = temp[temp['EntityIdx']=='Site-2629']\n",
    "site_5298_data = temp[temp['EntityIdx']=='Site-5298']\n",
    "site_5299_data = temp[temp['EntityIdx']=='Site-5299']\n",
    "site_10648_data = temp[temp['EntityIdx']=='Site-10648']\n",
    "site_7976_data = temp[temp['EntityIdx']=='Site-7976']\n",
    "site_2629_data"
   ]
  },
  {
   "cell_type": "code",
   "execution_count": 6,
   "metadata": {},
   "outputs": [
    {
     "data": {
      "text/html": [
       "<div>\n",
       "<style scoped>\n",
       "    .dataframe tbody tr th:only-of-type {\n",
       "        vertical-align: middle;\n",
       "    }\n",
       "\n",
       "    .dataframe tbody tr th {\n",
       "        vertical-align: top;\n",
       "    }\n",
       "\n",
       "    .dataframe thead th {\n",
       "        text-align: right;\n",
       "    }\n",
       "</style>\n",
       "<table border=\"1\" class=\"dataframe\">\n",
       "  <thead>\n",
       "    <tr style=\"text-align: right;\">\n",
       "      <th></th>\n",
       "      <th>Value</th>\n",
       "    </tr>\n",
       "    <tr>\n",
       "      <th>Timestep</th>\n",
       "      <th></th>\n",
       "    </tr>\n",
       "  </thead>\n",
       "  <tbody>\n",
       "    <tr>\n",
       "      <td>2019-08-01 00:00:00</td>\n",
       "      <td>UID-1abf514a34 UID-dec9c34e09 UID-162b1d1694 U...</td>\n",
       "    </tr>\n",
       "    <tr>\n",
       "      <td>2019-08-01 00:05:00</td>\n",
       "      <td>UID-1abf514a34 UID-dec9c34e09 UID-162b1d1694 U...</td>\n",
       "    </tr>\n",
       "    <tr>\n",
       "      <td>2019-08-01 00:10:00</td>\n",
       "      <td>UID-1abf514a34 UID-dec9c34e09 UID-8bddb16882 U...</td>\n",
       "    </tr>\n",
       "    <tr>\n",
       "      <td>2019-08-01 00:15:00</td>\n",
       "      <td>UID-1abf514a34 UID-8bddb16882 UID-eaa2daa12b</td>\n",
       "    </tr>\n",
       "    <tr>\n",
       "      <td>2019-08-01 00:20:00</td>\n",
       "      <td>UID-1abf514a34 UID-8bddb16882 UID-eaa2daa12b</td>\n",
       "    </tr>\n",
       "    <tr>\n",
       "      <td>...</td>\n",
       "      <td>...</td>\n",
       "    </tr>\n",
       "    <tr>\n",
       "      <td>2019-10-31 22:50:00</td>\n",
       "      <td>UID-63fd2226a3 UID-ad6a1601a4 UID-4efcaea64a U...</td>\n",
       "    </tr>\n",
       "    <tr>\n",
       "      <td>2019-10-31 22:55:00</td>\n",
       "      <td>UID-63fd2226a3 UID-ad6a1601a4 UID-4efcaea64a U...</td>\n",
       "    </tr>\n",
       "    <tr>\n",
       "      <td>2019-10-31 23:00:00</td>\n",
       "      <td>UID-63fd2226a3 UID-ad6a1601a4 UID-4efcaea64a</td>\n",
       "    </tr>\n",
       "    <tr>\n",
       "      <td>2019-10-31 23:05:00</td>\n",
       "      <td>UID-4efcaea64a</td>\n",
       "    </tr>\n",
       "    <tr>\n",
       "      <td>2019-10-31 23:10:00</td>\n",
       "      <td>UID-4efcaea64a</td>\n",
       "    </tr>\n",
       "  </tbody>\n",
       "</table>\n",
       "<p>16785 rows × 1 columns</p>\n",
       "</div>"
      ],
      "text/plain": [
       "                                                                 Value\n",
       "Timestep                                                              \n",
       "2019-08-01 00:00:00  UID-1abf514a34 UID-dec9c34e09 UID-162b1d1694 U...\n",
       "2019-08-01 00:05:00  UID-1abf514a34 UID-dec9c34e09 UID-162b1d1694 U...\n",
       "2019-08-01 00:10:00  UID-1abf514a34 UID-dec9c34e09 UID-8bddb16882 U...\n",
       "2019-08-01 00:15:00       UID-1abf514a34 UID-8bddb16882 UID-eaa2daa12b\n",
       "2019-08-01 00:20:00       UID-1abf514a34 UID-8bddb16882 UID-eaa2daa12b\n",
       "...                                                                ...\n",
       "2019-10-31 22:50:00  UID-63fd2226a3 UID-ad6a1601a4 UID-4efcaea64a U...\n",
       "2019-10-31 22:55:00  UID-63fd2226a3 UID-ad6a1601a4 UID-4efcaea64a U...\n",
       "2019-10-31 23:00:00       UID-63fd2226a3 UID-ad6a1601a4 UID-4efcaea64a\n",
       "2019-10-31 23:05:00                                     UID-4efcaea64a\n",
       "2019-10-31 23:10:00                                     UID-4efcaea64a\n",
       "\n",
       "[16785 rows x 1 columns]"
      ]
     },
     "execution_count": 6,
     "metadata": {},
     "output_type": "execute_result"
    }
   ],
   "source": [
    "site_2629_visit_data =  pd.DataFrame(site_2629_data.groupby('Timestep')['Value'].apply(' '.join))\n",
    "site_5298_visit_data =  pd.DataFrame(site_5298_data.groupby('Timestep')['Value'].apply(' '.join))\n",
    "site_5299_visit_data =  pd.DataFrame(site_5299_data.groupby('Timestep')['Value'].apply(' '.join))\n",
    "site_10648_visit_data =  pd.DataFrame(site_10648_data.groupby('Timestep')['Value'].apply(' '.join))\n",
    "site_7976_visit_data =  pd.DataFrame(site_7976_data.groupby('Timestep')['Value'].apply(' '.join))\n",
    "site_7976_visit_data"
   ]
  },
  {
   "cell_type": "code",
   "execution_count": 7,
   "metadata": {},
   "outputs": [
    {
     "data": {
      "text/html": [
       "<div>\n",
       "<style scoped>\n",
       "    .dataframe tbody tr th:only-of-type {\n",
       "        vertical-align: middle;\n",
       "    }\n",
       "\n",
       "    .dataframe tbody tr th {\n",
       "        vertical-align: top;\n",
       "    }\n",
       "\n",
       "    .dataframe thead th {\n",
       "        text-align: right;\n",
       "    }\n",
       "</style>\n",
       "<table border=\"1\" class=\"dataframe\">\n",
       "  <thead>\n",
       "    <tr style=\"text-align: right;\">\n",
       "      <th></th>\n",
       "      <th>Value</th>\n",
       "      <th>Prev_value</th>\n",
       "    </tr>\n",
       "    <tr>\n",
       "      <th>Timestep</th>\n",
       "      <th></th>\n",
       "      <th></th>\n",
       "    </tr>\n",
       "  </thead>\n",
       "  <tbody>\n",
       "    <tr>\n",
       "      <td>2019-08-01 00:00:00</td>\n",
       "      <td>UID-1abf514a34 UID-dec9c34e09 UID-162b1d1694 U...</td>\n",
       "      <td>NaN</td>\n",
       "    </tr>\n",
       "    <tr>\n",
       "      <td>2019-08-01 00:05:00</td>\n",
       "      <td>UID-1abf514a34 UID-dec9c34e09 UID-162b1d1694 U...</td>\n",
       "      <td>UID-1abf514a34 UID-dec9c34e09 UID-162b1d1694 U...</td>\n",
       "    </tr>\n",
       "    <tr>\n",
       "      <td>2019-08-01 00:10:00</td>\n",
       "      <td>UID-1abf514a34 UID-dec9c34e09 UID-8bddb16882 U...</td>\n",
       "      <td>UID-1abf514a34 UID-dec9c34e09 UID-162b1d1694 U...</td>\n",
       "    </tr>\n",
       "    <tr>\n",
       "      <td>2019-08-01 00:15:00</td>\n",
       "      <td>UID-1abf514a34 UID-8bddb16882 UID-eaa2daa12b</td>\n",
       "      <td>UID-1abf514a34 UID-dec9c34e09 UID-8bddb16882 U...</td>\n",
       "    </tr>\n",
       "    <tr>\n",
       "      <td>2019-08-01 00:20:00</td>\n",
       "      <td>UID-1abf514a34 UID-8bddb16882 UID-eaa2daa12b</td>\n",
       "      <td>UID-1abf514a34 UID-8bddb16882 UID-eaa2daa12b</td>\n",
       "    </tr>\n",
       "    <tr>\n",
       "      <td>...</td>\n",
       "      <td>...</td>\n",
       "      <td>...</td>\n",
       "    </tr>\n",
       "    <tr>\n",
       "      <td>2019-10-31 22:50:00</td>\n",
       "      <td>UID-63fd2226a3 UID-ad6a1601a4 UID-4efcaea64a U...</td>\n",
       "      <td>UID-63fd2226a3 UID-ad6a1601a4 UID-4efcaea64a U...</td>\n",
       "    </tr>\n",
       "    <tr>\n",
       "      <td>2019-10-31 22:55:00</td>\n",
       "      <td>UID-63fd2226a3 UID-ad6a1601a4 UID-4efcaea64a U...</td>\n",
       "      <td>UID-63fd2226a3 UID-ad6a1601a4 UID-4efcaea64a U...</td>\n",
       "    </tr>\n",
       "    <tr>\n",
       "      <td>2019-10-31 23:00:00</td>\n",
       "      <td>UID-63fd2226a3 UID-ad6a1601a4 UID-4efcaea64a</td>\n",
       "      <td>UID-63fd2226a3 UID-ad6a1601a4 UID-4efcaea64a U...</td>\n",
       "    </tr>\n",
       "    <tr>\n",
       "      <td>2019-10-31 23:05:00</td>\n",
       "      <td>UID-4efcaea64a</td>\n",
       "      <td>UID-63fd2226a3 UID-ad6a1601a4 UID-4efcaea64a</td>\n",
       "    </tr>\n",
       "    <tr>\n",
       "      <td>2019-10-31 23:10:00</td>\n",
       "      <td>UID-4efcaea64a</td>\n",
       "      <td>UID-4efcaea64a</td>\n",
       "    </tr>\n",
       "  </tbody>\n",
       "</table>\n",
       "<p>16785 rows × 2 columns</p>\n",
       "</div>"
      ],
      "text/plain": [
       "                                                                 Value  \\\n",
       "Timestep                                                                 \n",
       "2019-08-01 00:00:00  UID-1abf514a34 UID-dec9c34e09 UID-162b1d1694 U...   \n",
       "2019-08-01 00:05:00  UID-1abf514a34 UID-dec9c34e09 UID-162b1d1694 U...   \n",
       "2019-08-01 00:10:00  UID-1abf514a34 UID-dec9c34e09 UID-8bddb16882 U...   \n",
       "2019-08-01 00:15:00       UID-1abf514a34 UID-8bddb16882 UID-eaa2daa12b   \n",
       "2019-08-01 00:20:00       UID-1abf514a34 UID-8bddb16882 UID-eaa2daa12b   \n",
       "...                                                                ...   \n",
       "2019-10-31 22:50:00  UID-63fd2226a3 UID-ad6a1601a4 UID-4efcaea64a U...   \n",
       "2019-10-31 22:55:00  UID-63fd2226a3 UID-ad6a1601a4 UID-4efcaea64a U...   \n",
       "2019-10-31 23:00:00       UID-63fd2226a3 UID-ad6a1601a4 UID-4efcaea64a   \n",
       "2019-10-31 23:05:00                                     UID-4efcaea64a   \n",
       "2019-10-31 23:10:00                                     UID-4efcaea64a   \n",
       "\n",
       "                                                            Prev_value  \n",
       "Timestep                                                                \n",
       "2019-08-01 00:00:00                                                NaN  \n",
       "2019-08-01 00:05:00  UID-1abf514a34 UID-dec9c34e09 UID-162b1d1694 U...  \n",
       "2019-08-01 00:10:00  UID-1abf514a34 UID-dec9c34e09 UID-162b1d1694 U...  \n",
       "2019-08-01 00:15:00  UID-1abf514a34 UID-dec9c34e09 UID-8bddb16882 U...  \n",
       "2019-08-01 00:20:00       UID-1abf514a34 UID-8bddb16882 UID-eaa2daa12b  \n",
       "...                                                                ...  \n",
       "2019-10-31 22:50:00  UID-63fd2226a3 UID-ad6a1601a4 UID-4efcaea64a U...  \n",
       "2019-10-31 22:55:00  UID-63fd2226a3 UID-ad6a1601a4 UID-4efcaea64a U...  \n",
       "2019-10-31 23:00:00  UID-63fd2226a3 UID-ad6a1601a4 UID-4efcaea64a U...  \n",
       "2019-10-31 23:05:00       UID-63fd2226a3 UID-ad6a1601a4 UID-4efcaea64a  \n",
       "2019-10-31 23:10:00                                     UID-4efcaea64a  \n",
       "\n",
       "[16785 rows x 2 columns]"
      ]
     },
     "execution_count": 7,
     "metadata": {},
     "output_type": "execute_result"
    }
   ],
   "source": [
    "site_2629_visit_data['Prev_value'] = site_2629_visit_data.shift(1)['Value']\n",
    "site_5298_visit_data['Prev_value'] = site_5298_visit_data.shift(1)['Value']\n",
    "site_5299_visit_data['Prev_value'] = site_5299_visit_data.shift(1)['Value']\n",
    "site_10648_visit_data['Prev_value'] = site_10648_visit_data.shift(1)['Value']\n",
    "site_7976_visit_data['Prev_value'] = site_7976_visit_data.shift(1)['Value']\n",
    "site_7976_visit_data"
   ]
  },
  {
   "cell_type": "code",
   "execution_count": 8,
   "metadata": {
    "scrolled": true
   },
   "outputs": [],
   "source": [
    "def func(x):\n",
    "#     print(x)\n",
    "    if pd.isna(x['Value'])==False:\n",
    "        a = set(x['Value'].split())\n",
    "    else:\n",
    "        a=set()\n",
    "    \n",
    "    if pd.isna(x['Prev_value'])==False:\n",
    "        b = set(x['Prev_value'].split())\n",
    "    else:\n",
    "        b = set()\n",
    "#     print(x, y, y.difference(x))\n",
    "    return len(a.difference(b))\n",
    "    \n",
    "# r =pd.DataFrame([func(x, y) for x, y in zip(df1['Value'], df2['Value'])])\n",
    "site_2629_visit_data['count']=site_2629_visit_data.apply(lambda x: func(x),  axis=1)\n",
    "site_2629_visit_data=site_2629_visit_data[['count']]\n",
    "\n",
    "site_5298_visit_data['count']=site_5298_visit_data.apply(lambda x: func(x),  axis=1)\n",
    "site_5298_visit_data=site_5298_visit_data[['count']]\n",
    "\n",
    "site_5299_visit_data['count']=site_5299_visit_data.apply(lambda x: func(x),  axis=1)\n",
    "site_5299_visit_data=site_5299_visit_data[['count']]\n",
    "\n",
    "site_10648_visit_data['count']=site_10648_visit_data.apply(lambda x: func(x),  axis=1)\n",
    "site_10648_visit_data=site_10648_visit_data[['count']]\n",
    "\n",
    "site_7976_visit_data['count']=site_7976_visit_data.apply(lambda x: func(x),  axis=1)\n",
    "site_7976_visit_data=site_7976_visit_data[['count']]"
   ]
  },
  {
   "cell_type": "code",
   "execution_count": 9,
   "metadata": {
    "scrolled": true
   },
   "outputs": [
    {
     "data": {
      "text/html": [
       "<div>\n",
       "<style scoped>\n",
       "    .dataframe tbody tr th:only-of-type {\n",
       "        vertical-align: middle;\n",
       "    }\n",
       "\n",
       "    .dataframe tbody tr th {\n",
       "        vertical-align: top;\n",
       "    }\n",
       "\n",
       "    .dataframe thead th {\n",
       "        text-align: right;\n",
       "    }\n",
       "</style>\n",
       "<table border=\"1\" class=\"dataframe\">\n",
       "  <thead>\n",
       "    <tr style=\"text-align: right;\">\n",
       "      <th></th>\n",
       "      <th>count</th>\n",
       "    </tr>\n",
       "    <tr>\n",
       "      <th>Timestep</th>\n",
       "      <th></th>\n",
       "    </tr>\n",
       "  </thead>\n",
       "  <tbody>\n",
       "    <tr>\n",
       "      <td>2019-08-01</td>\n",
       "      <td>294</td>\n",
       "    </tr>\n",
       "    <tr>\n",
       "      <td>2019-08-02</td>\n",
       "      <td>268</td>\n",
       "    </tr>\n",
       "    <tr>\n",
       "      <td>2019-08-03</td>\n",
       "      <td>545</td>\n",
       "    </tr>\n",
       "    <tr>\n",
       "      <td>2019-08-04</td>\n",
       "      <td>497</td>\n",
       "    </tr>\n",
       "    <tr>\n",
       "      <td>2019-08-05</td>\n",
       "      <td>205</td>\n",
       "    </tr>\n",
       "    <tr>\n",
       "      <td>...</td>\n",
       "      <td>...</td>\n",
       "    </tr>\n",
       "    <tr>\n",
       "      <td>2019-10-27</td>\n",
       "      <td>209</td>\n",
       "    </tr>\n",
       "    <tr>\n",
       "      <td>2019-10-28</td>\n",
       "      <td>125</td>\n",
       "    </tr>\n",
       "    <tr>\n",
       "      <td>2019-10-29</td>\n",
       "      <td>121</td>\n",
       "    </tr>\n",
       "    <tr>\n",
       "      <td>2019-10-30</td>\n",
       "      <td>113</td>\n",
       "    </tr>\n",
       "    <tr>\n",
       "      <td>2019-10-31</td>\n",
       "      <td>100</td>\n",
       "    </tr>\n",
       "  </tbody>\n",
       "</table>\n",
       "<p>92 rows × 1 columns</p>\n",
       "</div>"
      ],
      "text/plain": [
       "            count\n",
       "Timestep         \n",
       "2019-08-01    294\n",
       "2019-08-02    268\n",
       "2019-08-03    545\n",
       "2019-08-04    497\n",
       "2019-08-05    205\n",
       "...           ...\n",
       "2019-10-27    209\n",
       "2019-10-28    125\n",
       "2019-10-29    121\n",
       "2019-10-30    113\n",
       "2019-10-31    100\n",
       "\n",
       "[92 rows x 1 columns]"
      ]
     },
     "execution_count": 9,
     "metadata": {},
     "output_type": "execute_result"
    }
   ],
   "source": [
    "site_2629_visit_data.index = pd.to_datetime(site_2629_visit_data.index)\n",
    "site_5298_visit_data.index = pd.to_datetime(site_5298_visit_data.index)\n",
    "site_5299_visit_data.index = pd.to_datetime(site_5299_visit_data.index)\n",
    "site_10648_visit_data.index = pd.to_datetime(site_10648_visit_data.index)\n",
    "site_7976_visit_data.index = pd.to_datetime(site_7976_visit_data.index)\n",
    "\n",
    "site_2629_visit_data=site_2629_visit_data.resample('D').sum()\n",
    "site_5298_visit_data=site_5298_visit_data.resample('D').sum()\n",
    "site_5299_visit_data=site_5299_visit_data.resample('D').sum()\n",
    "site_10648_visit_data=site_10648_visit_data.resample('D').sum()\n",
    "site_7976_visit_data=site_7976_visit_data.resample('D').sum()\n",
    "\n",
    "site_2629_visit_data"
   ]
  },
  {
   "cell_type": "code",
   "execution_count": 10,
   "metadata": {},
   "outputs": [
    {
     "data": {
      "text/plain": [
       "array([<matplotlib.axes._subplots.AxesSubplot object at 0x7f73b7bf7b10>],\n",
       "      dtype=object)"
      ]
     },
     "execution_count": 10,
     "metadata": {},
     "output_type": "execute_result"
    },
    {
     "data": {
      "image/png": "[encoded data removed]",
      "text/plain": [
       "<Figure size 432x288 with 1 Axes>"
      ]
     },
     "metadata": {
      "needs_background": "light"
     },
     "output_type": "display_data"
    }
   ],
   "source": [
    "site_2629_visit_data.plot(subplots=True)"
   ]
  },
  {
   "cell_type": "code",
   "execution_count": 11,
   "metadata": {},
   "outputs": [
    {
     "data": {
      "text/plain": [
       "array([<matplotlib.axes._subplots.AxesSubplot object at 0x7f73b7674290>],\n",
       "      dtype=object)"
      ]
     },
     "execution_count": 11,
     "metadata": {},
     "output_type": "execute_result"
    },
    {
     "data": {
      "image/png": "[encoded data removed]",
      "text/plain": [
       "<Figure size 432x288 with 1 Axes>"
      ]
     },
     "metadata": {
      "needs_background": "light"
     },
     "output_type": "display_data"
    }
   ],
   "source": [
    "site_5298_visit_data.plot(subplots=True)"
   ]
  },
  {
   "cell_type": "code",
   "execution_count": 12,
   "metadata": {},
   "outputs": [
    {
     "data": {
      "text/plain": [
       "array([<matplotlib.axes._subplots.AxesSubplot object at 0x7f73b7a69ed0>],\n",
       "      dtype=object)"
      ]
     },
     "execution_count": 12,
     "metadata": {},
     "output_type": "execute_result"
    },
    {
     "data": {
      "image/png": "[encoded data removed]",
      "text/plain": [
       "<Figure size 432x288 with 1 Axes>"
      ]
     },
     "metadata": {
      "needs_background": "light"
     },
     "output_type": "display_data"
    }
   ],
   "source": [
    "site_5299_visit_data.plot(subplots=True)"
   ]
  },
  {
   "cell_type": "code",
   "execution_count": 13,
   "metadata": {},
   "outputs": [
    {
     "data": {
      "text/plain": [
       "array([<matplotlib.axes._subplots.AxesSubplot object at 0x7f73b7a2ac90>],\n",
       "      dtype=object)"
      ]
     },
     "execution_count": 13,
     "metadata": {},
     "output_type": "execute_result"
    },
    {
     "data": {
      "image/png": "[encoded data removed]",
      "text/plain": [
       "<Figure size 432x288 with 1 Axes>"
      ]
     },
     "metadata": {
      "needs_background": "light"
     },
     "output_type": "display_data"
    }
   ],
   "source": [
    "site_10648_visit_data.plot(subplots=True)"
   ]
  },
  {
   "cell_type": "code",
   "execution_count": 14,
   "metadata": {},
   "outputs": [
    {
     "data": {
      "text/plain": [
       "array([<matplotlib.axes._subplots.AxesSubplot object at 0x7f73b79b98d0>],\n",
       "      dtype=object)"
      ]
     },
     "execution_count": 14,
     "metadata": {},
     "output_type": "execute_result"
    },
    {
     "data": {
      "image/png": "[encoded data removed]",
      "text/plain": [
       "<Figure size 432x288 with 1 Axes>"
      ]
     },
     "metadata": {
      "needs_background": "light"
     },
     "output_type": "display_data"
    }
   ],
   "source": [
    "site_7976_visit_data.plot(subplots=True)"
   ]
  },
  {
   "cell_type": "code",
   "execution_count": null,
   "metadata": {},
   "outputs": [],
   "source": []
  },
  {
   "cell_type": "code",
   "execution_count": 15,
   "metadata": {},
   "outputs": [
    {
     "data": {
      "text/html": [
       "<div>\n",
       "<style scoped>\n",
       "    .dataframe tbody tr th:only-of-type {\n",
       "        vertical-align: middle;\n",
       "    }\n",
       "\n",
       "    .dataframe tbody tr th {\n",
       "        vertical-align: top;\n",
       "    }\n",
       "\n",
       "    .dataframe thead th {\n",
       "        text-align: right;\n",
       "    }\n",
       "</style>\n",
       "<table border=\"1\" class=\"dataframe\">\n",
       "  <thead>\n",
       "    <tr style=\"text-align: right;\">\n",
       "      <th></th>\n",
       "      <th>Name</th>\n",
       "      <th>LongName</th>\n",
       "      <th>Values</th>\n",
       "      <th>VarType</th>\n",
       "      <th>DataType</th>\n",
       "      <th>Notes</th>\n",
       "    </tr>\n",
       "  </thead>\n",
       "  <tbody>\n",
       "    <tr>\n",
       "      <td>0</td>\n",
       "      <td>Friend</td>\n",
       "      <td>Friendship Indicator</td>\n",
       "      <td>1</td>\n",
       "      <td>dynamic</td>\n",
       "      <td>Boolean</td>\n",
       "      <td>Indicates whether FromEntityID and ToEntityID ...</td>\n",
       "    </tr>\n",
       "  </tbody>\n",
       "</table>\n",
       "</div>"
      ],
      "text/plain": [
       "     Name              LongName  Values  VarType DataType  \\\n",
       "0  Friend  Friendship Indicator       1  dynamic  Boolean   \n",
       "\n",
       "                                               Notes  \n",
       "0  Indicates whether FromEntityID and ToEntityID ...  "
      ]
     },
     "execution_count": 15,
     "metadata": {},
     "output_type": "execute_result"
    }
   ],
   "source": [
    "relationship_def = pd.read_table(relationship_def_file)\n",
    "relationship_def.head(10)"
   ]
  },
  {
   "cell_type": "code",
   "execution_count": 16,
   "metadata": {},
   "outputs": [
    {
     "data": {
      "text/html": [
       "<div>\n",
       "<style scoped>\n",
       "    .dataframe tbody tr th:only-of-type {\n",
       "        vertical-align: middle;\n",
       "    }\n",
       "\n",
       "    .dataframe tbody tr th {\n",
       "        vertical-align: top;\n",
       "    }\n",
       "\n",
       "    .dataframe thead th {\n",
       "        text-align: right;\n",
       "    }\n",
       "</style>\n",
       "<table border=\"1\" class=\"dataframe\">\n",
       "  <thead>\n",
       "    <tr style=\"text-align: right;\">\n",
       "      <th></th>\n",
       "      <th>Timestep</th>\n",
       "      <th>RelationshipType</th>\n",
       "      <th>Directed</th>\n",
       "      <th>FromEntityID</th>\n",
       "      <th>ToEntityID</th>\n",
       "      <th>Data</th>\n",
       "      <th>Notes</th>\n",
       "    </tr>\n",
       "  </thead>\n",
       "  <tbody>\n",
       "    <tr>\n",
       "      <td>0</td>\n",
       "      <td>2019-08-01 00:00:00</td>\n",
       "      <td>Friend</td>\n",
       "      <td>yes</td>\n",
       "      <td>UID-493290ec74</td>\n",
       "      <td>UID-1e4f4ea6f2</td>\n",
       "      <td>1</td>\n",
       "      <td>{\"Request\":\"6. Social Network Data\"}</td>\n",
       "    </tr>\n",
       "    <tr>\n",
       "      <td>1</td>\n",
       "      <td>2019-08-01 00:00:00</td>\n",
       "      <td>Friend</td>\n",
       "      <td>yes</td>\n",
       "      <td>UID-493290ec74</td>\n",
       "      <td>UID-aa66c8c33e</td>\n",
       "      <td>1</td>\n",
       "      <td>{\"Request\":\"6. Social Network Data\"}</td>\n",
       "    </tr>\n",
       "    <tr>\n",
       "      <td>2</td>\n",
       "      <td>2019-08-01 00:00:00</td>\n",
       "      <td>Friend</td>\n",
       "      <td>yes</td>\n",
       "      <td>UID-493290ec74</td>\n",
       "      <td>UID-09aade9472</td>\n",
       "      <td>1</td>\n",
       "      <td>{\"Request\":\"6. Social Network Data\"}</td>\n",
       "    </tr>\n",
       "    <tr>\n",
       "      <td>3</td>\n",
       "      <td>2019-08-01 00:00:00</td>\n",
       "      <td>Friend</td>\n",
       "      <td>yes</td>\n",
       "      <td>UID-e151b7c078</td>\n",
       "      <td>UID-257bbd7231</td>\n",
       "      <td>1</td>\n",
       "      <td>{\"Request\":\"6. Social Network Data\"}</td>\n",
       "    </tr>\n",
       "    <tr>\n",
       "      <td>4</td>\n",
       "      <td>2019-08-01 00:00:00</td>\n",
       "      <td>Friend</td>\n",
       "      <td>yes</td>\n",
       "      <td>UID-e151b7c078</td>\n",
       "      <td>UID-aced537182</td>\n",
       "      <td>1</td>\n",
       "      <td>{\"Request\":\"6. Social Network Data\"}</td>\n",
       "    </tr>\n",
       "    <tr>\n",
       "      <td>5</td>\n",
       "      <td>2019-08-01 00:00:00</td>\n",
       "      <td>Friend</td>\n",
       "      <td>yes</td>\n",
       "      <td>UID-e151b7c078</td>\n",
       "      <td>UID-fce1688cd2</td>\n",
       "      <td>1</td>\n",
       "      <td>{\"Request\":\"6. Social Network Data\"}</td>\n",
       "    </tr>\n",
       "    <tr>\n",
       "      <td>6</td>\n",
       "      <td>2019-08-01 00:00:00</td>\n",
       "      <td>Friend</td>\n",
       "      <td>yes</td>\n",
       "      <td>UID-e151b7c078</td>\n",
       "      <td>UID-7f4c1255ff</td>\n",
       "      <td>1</td>\n",
       "      <td>{\"Request\":\"6. Social Network Data\"}</td>\n",
       "    </tr>\n",
       "    <tr>\n",
       "      <td>7</td>\n",
       "      <td>2019-08-01 00:00:00</td>\n",
       "      <td>Friend</td>\n",
       "      <td>yes</td>\n",
       "      <td>UID-0e9d3330a6</td>\n",
       "      <td>UID-3994d75e3f</td>\n",
       "      <td>1</td>\n",
       "      <td>{\"Request\":\"6. Social Network Data\"}</td>\n",
       "    </tr>\n",
       "    <tr>\n",
       "      <td>8</td>\n",
       "      <td>2019-08-01 00:00:00</td>\n",
       "      <td>Friend</td>\n",
       "      <td>yes</td>\n",
       "      <td>UID-0e9d3330a6</td>\n",
       "      <td>UID-6328b7c89e</td>\n",
       "      <td>1</td>\n",
       "      <td>{\"Request\":\"6. Social Network Data\"}</td>\n",
       "    </tr>\n",
       "    <tr>\n",
       "      <td>9</td>\n",
       "      <td>2019-08-01 00:00:00</td>\n",
       "      <td>Friend</td>\n",
       "      <td>yes</td>\n",
       "      <td>UID-0e9d3330a6</td>\n",
       "      <td>UID-ca92d153c5</td>\n",
       "      <td>1</td>\n",
       "      <td>{\"Request\":\"6. Social Network Data\"}</td>\n",
       "    </tr>\n",
       "  </tbody>\n",
       "</table>\n",
       "</div>"
      ],
      "text/plain": [
       "              Timestep RelationshipType Directed    FromEntityID  \\\n",
       "0  2019-08-01 00:00:00           Friend      yes  UID-493290ec74   \n",
       "1  2019-08-01 00:00:00           Friend      yes  UID-493290ec74   \n",
       "2  2019-08-01 00:00:00           Friend      yes  UID-493290ec74   \n",
       "3  2019-08-01 00:00:00           Friend      yes  UID-e151b7c078   \n",
       "4  2019-08-01 00:00:00           Friend      yes  UID-e151b7c078   \n",
       "5  2019-08-01 00:00:00           Friend      yes  UID-e151b7c078   \n",
       "6  2019-08-01 00:00:00           Friend      yes  UID-e151b7c078   \n",
       "7  2019-08-01 00:00:00           Friend      yes  UID-0e9d3330a6   \n",
       "8  2019-08-01 00:00:00           Friend      yes  UID-0e9d3330a6   \n",
       "9  2019-08-01 00:00:00           Friend      yes  UID-0e9d3330a6   \n",
       "\n",
       "       ToEntityID  Data                                 Notes  \n",
       "0  UID-1e4f4ea6f2     1  {\"Request\":\"6. Social Network Data\"}  \n",
       "1  UID-aa66c8c33e     1  {\"Request\":\"6. Social Network Data\"}  \n",
       "2  UID-09aade9472     1  {\"Request\":\"6. Social Network Data\"}  \n",
       "3  UID-257bbd7231     1  {\"Request\":\"6. Social Network Data\"}  \n",
       "4  UID-aced537182     1  {\"Request\":\"6. Social Network Data\"}  \n",
       "5  UID-fce1688cd2     1  {\"Request\":\"6. Social Network Data\"}  \n",
       "6  UID-7f4c1255ff     1  {\"Request\":\"6. Social Network Data\"}  \n",
       "7  UID-3994d75e3f     1  {\"Request\":\"6. Social Network Data\"}  \n",
       "8  UID-6328b7c89e     1  {\"Request\":\"6. Social Network Data\"}  \n",
       "9  UID-ca92d153c5     1  {\"Request\":\"6. Social Network Data\"}  "
      ]
     },
     "execution_count": 16,
     "metadata": {},
     "output_type": "execute_result"
    }
   ],
   "source": [
    "relationship_data = pd.read_table(relationship_data_file)\n",
    "relationship_data.head(10)\n"
   ]
  },
  {
   "cell_type": "code",
   "execution_count": 17,
   "metadata": {},
   "outputs": [],
   "source": [
    "summary_statistics_data = pd.read_table(summary_statistics_data_file,parse_dates=True, index_col=0)"
   ]
  },
  {
   "cell_type": "code",
   "execution_count": null,
   "metadata": {},
   "outputs": [],
   "source": [
    "summary_statistics_data[summary_statistics_data['VariableName']=='Population'].head(10)"
   ]
  },
  {
   "cell_type": "code",
   "execution_count": null,
   "metadata": {},
   "outputs": [],
   "source": [
    "summary_statistics_data['VariableName'].unique()"
   ]
  },
  {
   "cell_type": "code",
   "execution_count": null,
   "metadata": {},
   "outputs": [],
   "source": [
    "temp=summary_statistics_data[summary_statistics_data['VariableName']=='NumOfPeopleInSite']\n",
    "temp[temp['EntityIdx']=='Site-2629']\n",
    "temp[temp['EntityIdx']=='Site-5298']\n",
    "temp[temp['EntityIdx']=='Site-5299']\n",
    "temp[temp['EntityIdx']=='Site-10648']\n",
    "site_7976_visit_data = temp[temp['EntityIdx']=='Site-7976']['Value']\n",
    "site_7976_visit_data"
   ]
  },
  {
   "cell_type": "code",
   "execution_count": null,
   "metadata": {},
   "outputs": [],
   "source": [
    "site_7976_visit_data.plot(subplots=True)"
   ]
  },
  {
   "cell_type": "markdown",
   "metadata": {},
   "source": [
    "<p style=\"font-family: Arial; font-size:1.25em;color:#2462C0; font-style:bold\">\n",
    "Dataset 2</p>"
   ]
  },
  {
   "cell_type": "code",
   "execution_count": 18,
   "metadata": {},
   "outputs": [],
   "source": [
    "initial_data_file = base_dir + r'/Urban World Predict Challenge Data/RunDataTable.tsv'\n",
    "rr_0260_data_file = base_dir + r'/Urban World Predict Challenge Data/RR-0260-RunDataTable.tsv'\n",
    "rr_0310_data_file = base_dir + r'/Urban World Predict Challenge Data/RR-0310-RunDataTable.tsv'\n",
    "rr_0320_data_file = base_dir + r'/Urban World Predict Challenge Data/RR-0320-RunDataTable.tsv'\n",
    "rr_0330_data_file = base_dir + r'/Urban World Predict Challenge Data/RR-0330-RunDataTable.tsv'\n",
    "rr_0340_qualitative_data_file = base_dir + r'/Urban World Predict Challenge Data/RR-0340-QualitativeDataTable.tsv'\n",
    "rr_0340_relationship_data_file = base_dir + r'/Urban World Predict Challenge Data/RR-0340-RelationshipDataTable.tsv'\n",
    "rr_0340_data_file = base_dir + r'/Urban World Predict Challenge Data/RR-0340-RunDataTable.tsv'\n",
    "rr_0370_qualitative_data_file = base_dir + r'/Urban World Predict Challenge Data/RR-0370-QualitativeDataTable.tsv'\n",
    "rr_0370_data_file = base_dir + r'/Urban World Predict Challenge Data/RR-0370-RunDataTable.tsv'\n",
    "rr_0380_data_file = base_dir + r'/Urban World Predict Challenge Data/RR-0380-RunDataTable.tsv'\n",
    "rr_0390_data_file = base_dir + r'/Urban World Predict Challenge Data/RR-0390-RunDataTable.tsv'\n",
    "idp_sup_data_file = base_dir + r'/Urban World Predict Challenge Data/IDP_SUP_RunDataTable.tsv'"
   ]
  },
  {
   "cell_type": "markdown",
   "metadata": {},
   "source": [
    "<p style=\"font-family: Arial; font-size:1.25em;color:#2462C0; font-style:bold\">\n",
    "Initial RunDataTable</p>"
   ]
  },
  {
   "cell_type": "code",
   "execution_count": 19,
   "metadata": {},
   "outputs": [
    {
     "name": "stderr",
     "output_type": "stream",
     "text": [
      "/home/workstation/software/anaconda3/lib/python3.7/site-packages/IPython/core/interactiveshell.py:3058: DtypeWarning: Columns (2) have mixed types. Specify dtype option on import or set low_memory=False.\n",
      "  interactivity=interactivity, compiler=compiler, result=result)\n"
     ]
    },
    {
     "data": {
      "text/html": [
       "<div>\n",
       "<style scoped>\n",
       "    .dataframe tbody tr th:only-of-type {\n",
       "        vertical-align: middle;\n",
       "    }\n",
       "\n",
       "    .dataframe tbody tr th {\n",
       "        vertical-align: top;\n",
       "    }\n",
       "\n",
       "    .dataframe thead th {\n",
       "        text-align: right;\n",
       "    }\n",
       "</style>\n",
       "<table border=\"1\" class=\"dataframe\">\n",
       "  <thead>\n",
       "    <tr style=\"text-align: right;\">\n",
       "      <th></th>\n",
       "      <th>Timestep</th>\n",
       "      <th>VariableName</th>\n",
       "      <th>EntityIdx</th>\n",
       "      <th>Value</th>\n",
       "      <th>Notes</th>\n",
       "    </tr>\n",
       "  </thead>\n",
       "  <tbody>\n",
       "    <tr>\n",
       "      <td>0</td>\n",
       "      <td>2022-06-15 00:00:00</td>\n",
       "      <td>CurrentVisitor</td>\n",
       "      <td>Site-2628</td>\n",
       "      <td>UID-ee77dee9e6</td>\n",
       "      <td>{\"Request\":\"Initial Data Package\"}</td>\n",
       "    </tr>\n",
       "    <tr>\n",
       "      <td>1</td>\n",
       "      <td>2022-06-15 00:00:00</td>\n",
       "      <td>CurrentVisitor</td>\n",
       "      <td>Site-2634</td>\n",
       "      <td>UID-b274a9fbe7</td>\n",
       "      <td>{\"Request\":\"Initial Data Package\"}</td>\n",
       "    </tr>\n",
       "    <tr>\n",
       "      <td>2</td>\n",
       "      <td>2022-06-15 00:00:00</td>\n",
       "      <td>CurrentVisitor</td>\n",
       "      <td>Site-5300</td>\n",
       "      <td>UID-942037a1d8</td>\n",
       "      <td>{\"Request\":\"Initial Data Package\"}</td>\n",
       "    </tr>\n",
       "    <tr>\n",
       "      <td>3</td>\n",
       "      <td>2022-06-15 00:00:00</td>\n",
       "      <td>CurrentVisitor</td>\n",
       "      <td>Site-7976</td>\n",
       "      <td>UID-8bddb16882</td>\n",
       "      <td>{\"Request\":\"Initial Data Package\"}</td>\n",
       "    </tr>\n",
       "    <tr>\n",
       "      <td>4</td>\n",
       "      <td>2022-06-15 00:00:00</td>\n",
       "      <td>CurrentVisitor</td>\n",
       "      <td>Site-10644</td>\n",
       "      <td>UID-f42b3eb59c</td>\n",
       "      <td>{\"Request\":\"Initial Data Package\"}</td>\n",
       "    </tr>\n",
       "  </tbody>\n",
       "</table>\n",
       "</div>"
      ],
      "text/plain": [
       "              Timestep    VariableName   EntityIdx           Value  \\\n",
       "0  2022-06-15 00:00:00  CurrentVisitor   Site-2628  UID-ee77dee9e6   \n",
       "1  2022-06-15 00:00:00  CurrentVisitor   Site-2634  UID-b274a9fbe7   \n",
       "2  2022-06-15 00:00:00  CurrentVisitor   Site-5300  UID-942037a1d8   \n",
       "3  2022-06-15 00:00:00  CurrentVisitor   Site-7976  UID-8bddb16882   \n",
       "4  2022-06-15 00:00:00  CurrentVisitor  Site-10644  UID-f42b3eb59c   \n",
       "\n",
       "                                Notes  \n",
       "0  {\"Request\":\"Initial Data Package\"}  \n",
       "1  {\"Request\":\"Initial Data Package\"}  \n",
       "2  {\"Request\":\"Initial Data Package\"}  \n",
       "3  {\"Request\":\"Initial Data Package\"}  \n",
       "4  {\"Request\":\"Initial Data Package\"}  "
      ]
     },
     "execution_count": 19,
     "metadata": {},
     "output_type": "execute_result"
    }
   ],
   "source": [
    "initial_data = pd.read_csv(initial_data_file,delimiter='\\t',encoding='utf-8', index_col=False)\n",
    "initial_data.head()"
   ]
  },
  {
   "cell_type": "code",
   "execution_count": 20,
   "metadata": {},
   "outputs": [
    {
     "data": {
      "text/plain": [
       "array(['CurrentVisitor', 'OngoingMeetingId', 'Participant', 'Enter',\n",
       "       'Leave', 'Checkin', 'Checkout'], dtype=object)"
      ]
     },
     "execution_count": 20,
     "metadata": {},
     "output_type": "execute_result"
    }
   ],
   "source": [
    "initial_data[\"VariableName\"].unique()"
   ]
  },
  {
   "cell_type": "code",
   "execution_count": 21,
   "metadata": {},
   "outputs": [
    {
     "data": {
      "text/html": [
       "<div>\n",
       "<style scoped>\n",
       "    .dataframe tbody tr th:only-of-type {\n",
       "        vertical-align: middle;\n",
       "    }\n",
       "\n",
       "    .dataframe tbody tr th {\n",
       "        vertical-align: top;\n",
       "    }\n",
       "\n",
       "    .dataframe thead th {\n",
       "        text-align: right;\n",
       "    }\n",
       "</style>\n",
       "<table border=\"1\" class=\"dataframe\">\n",
       "  <thead>\n",
       "    <tr style=\"text-align: right;\">\n",
       "      <th></th>\n",
       "      <th>Timestep</th>\n",
       "      <th>VariableName</th>\n",
       "      <th>EntityIdx</th>\n",
       "      <th>Value</th>\n",
       "      <th>Notes</th>\n",
       "    </tr>\n",
       "  </thead>\n",
       "  <tbody>\n",
       "    <tr>\n",
       "      <td>668409</td>\n",
       "      <td>2022-06-15 16:45:00</td>\n",
       "      <td>CurrentVisitor</td>\n",
       "      <td>Site-2629</td>\n",
       "      <td>UID-c6b214d6b1</td>\n",
       "      <td>{\"Request\":\"Initial Data Package\"}</td>\n",
       "    </tr>\n",
       "    <tr>\n",
       "      <td>668410</td>\n",
       "      <td>2022-06-15 16:45:00</td>\n",
       "      <td>CurrentVisitor</td>\n",
       "      <td>Site-2629</td>\n",
       "      <td>UID-ce4c84e1af</td>\n",
       "      <td>{\"Request\":\"Initial Data Package\"}</td>\n",
       "    </tr>\n",
       "    <tr>\n",
       "      <td>668411</td>\n",
       "      <td>2022-06-15 16:45:00</td>\n",
       "      <td>CurrentVisitor</td>\n",
       "      <td>Site-2629</td>\n",
       "      <td>UID-f78ae1e66b</td>\n",
       "      <td>{\"Request\":\"Initial Data Package\"}</td>\n",
       "    </tr>\n",
       "    <tr>\n",
       "      <td>668412</td>\n",
       "      <td>2022-06-15 16:45:00</td>\n",
       "      <td>CurrentVisitor</td>\n",
       "      <td>Site-2629</td>\n",
       "      <td>UID-8d8cca073c</td>\n",
       "      <td>{\"Request\":\"Initial Data Package\"}</td>\n",
       "    </tr>\n",
       "    <tr>\n",
       "      <td>668447</td>\n",
       "      <td>2022-06-15 16:50:00</td>\n",
       "      <td>CurrentVisitor</td>\n",
       "      <td>Site-2629</td>\n",
       "      <td>UID-c6b214d6b1</td>\n",
       "      <td>{\"Request\":\"Initial Data Package\"}</td>\n",
       "    </tr>\n",
       "    <tr>\n",
       "      <td>...</td>\n",
       "      <td>...</td>\n",
       "      <td>...</td>\n",
       "      <td>...</td>\n",
       "      <td>...</td>\n",
       "      <td>...</td>\n",
       "    </tr>\n",
       "    <tr>\n",
       "      <td>1361843</td>\n",
       "      <td>2022-07-13 19:40:00</td>\n",
       "      <td>CurrentVisitor</td>\n",
       "      <td>Site-2629</td>\n",
       "      <td>UID-83cc7ef15a</td>\n",
       "      <td>{\"Request\":\"Initial Data Package\"}</td>\n",
       "    </tr>\n",
       "    <tr>\n",
       "      <td>1361844</td>\n",
       "      <td>2022-07-13 19:40:00</td>\n",
       "      <td>CurrentVisitor</td>\n",
       "      <td>Site-2629</td>\n",
       "      <td>UID-603b040877</td>\n",
       "      <td>{\"Request\":\"Initial Data Package\"}</td>\n",
       "    </tr>\n",
       "    <tr>\n",
       "      <td>1361845</td>\n",
       "      <td>2022-07-13 19:40:00</td>\n",
       "      <td>CurrentVisitor</td>\n",
       "      <td>Site-2629</td>\n",
       "      <td>UID-7ade052194</td>\n",
       "      <td>{\"Request\":\"Initial Data Package\"}</td>\n",
       "    </tr>\n",
       "    <tr>\n",
       "      <td>1361846</td>\n",
       "      <td>2022-07-13 19:40:00</td>\n",
       "      <td>CurrentVisitor</td>\n",
       "      <td>Site-2629</td>\n",
       "      <td>UID-fa0a9f7446</td>\n",
       "      <td>{\"Request\":\"Initial Data Package\"}</td>\n",
       "    </tr>\n",
       "    <tr>\n",
       "      <td>1361847</td>\n",
       "      <td>2022-07-13 19:40:00</td>\n",
       "      <td>CurrentVisitor</td>\n",
       "      <td>Site-2629</td>\n",
       "      <td>UID-c27c9da974</td>\n",
       "      <td>{\"Request\":\"Initial Data Package\"}</td>\n",
       "    </tr>\n",
       "  </tbody>\n",
       "</table>\n",
       "<p>14952 rows × 5 columns</p>\n",
       "</div>"
      ],
      "text/plain": [
       "                    Timestep    VariableName  EntityIdx           Value  \\\n",
       "668409   2022-06-15 16:45:00  CurrentVisitor  Site-2629  UID-c6b214d6b1   \n",
       "668410   2022-06-15 16:45:00  CurrentVisitor  Site-2629  UID-ce4c84e1af   \n",
       "668411   2022-06-15 16:45:00  CurrentVisitor  Site-2629  UID-f78ae1e66b   \n",
       "668412   2022-06-15 16:45:00  CurrentVisitor  Site-2629  UID-8d8cca073c   \n",
       "668447   2022-06-15 16:50:00  CurrentVisitor  Site-2629  UID-c6b214d6b1   \n",
       "...                      ...             ...        ...             ...   \n",
       "1361843  2022-07-13 19:40:00  CurrentVisitor  Site-2629  UID-83cc7ef15a   \n",
       "1361844  2022-07-13 19:40:00  CurrentVisitor  Site-2629  UID-603b040877   \n",
       "1361845  2022-07-13 19:40:00  CurrentVisitor  Site-2629  UID-7ade052194   \n",
       "1361846  2022-07-13 19:40:00  CurrentVisitor  Site-2629  UID-fa0a9f7446   \n",
       "1361847  2022-07-13 19:40:00  CurrentVisitor  Site-2629  UID-c27c9da974   \n",
       "\n",
       "                                      Notes  \n",
       "668409   {\"Request\":\"Initial Data Package\"}  \n",
       "668410   {\"Request\":\"Initial Data Package\"}  \n",
       "668411   {\"Request\":\"Initial Data Package\"}  \n",
       "668412   {\"Request\":\"Initial Data Package\"}  \n",
       "668447   {\"Request\":\"Initial Data Package\"}  \n",
       "...                                     ...  \n",
       "1361843  {\"Request\":\"Initial Data Package\"}  \n",
       "1361844  {\"Request\":\"Initial Data Package\"}  \n",
       "1361845  {\"Request\":\"Initial Data Package\"}  \n",
       "1361846  {\"Request\":\"Initial Data Package\"}  \n",
       "1361847  {\"Request\":\"Initial Data Package\"}  \n",
       "\n",
       "[14952 rows x 5 columns]"
      ]
     },
     "execution_count": 21,
     "metadata": {},
     "output_type": "execute_result"
    }
   ],
   "source": [
    "temp=initial_data[initial_data['VariableName']=='CurrentVisitor']\n",
    "site_2629_data_2 = temp[temp['EntityIdx']=='Site-2629']\n",
    "site_5298_data_2 = temp[temp['EntityIdx']=='Site-5298']\n",
    "site_5299_data_2 = temp[temp['EntityIdx']=='Site-5299']\n",
    "site_10648_data_2 = temp[temp['EntityIdx']=='Site-10648']\n",
    "site_7976_data_2 = temp[temp['EntityIdx']=='Site-7976']\n",
    "site_2629_data_2"
   ]
  },
  {
   "cell_type": "code",
   "execution_count": 22,
   "metadata": {},
   "outputs": [
    {
     "data": {
      "text/html": [
       "<div>\n",
       "<style scoped>\n",
       "    .dataframe tbody tr th:only-of-type {\n",
       "        vertical-align: middle;\n",
       "    }\n",
       "\n",
       "    .dataframe tbody tr th {\n",
       "        vertical-align: top;\n",
       "    }\n",
       "\n",
       "    .dataframe thead th {\n",
       "        text-align: right;\n",
       "    }\n",
       "</style>\n",
       "<table border=\"1\" class=\"dataframe\">\n",
       "  <thead>\n",
       "    <tr style=\"text-align: right;\">\n",
       "      <th></th>\n",
       "      <th>Value</th>\n",
       "    </tr>\n",
       "    <tr>\n",
       "      <th>Timestep</th>\n",
       "      <th></th>\n",
       "    </tr>\n",
       "  </thead>\n",
       "  <tbody>\n",
       "    <tr>\n",
       "      <td>2022-06-15 16:45:00</td>\n",
       "      <td>UID-c6b214d6b1 UID-ce4c84e1af UID-f78ae1e66b U...</td>\n",
       "    </tr>\n",
       "    <tr>\n",
       "      <td>2022-06-15 16:50:00</td>\n",
       "      <td>UID-c6b214d6b1 UID-ce4c84e1af UID-16473965d9 U...</td>\n",
       "    </tr>\n",
       "    <tr>\n",
       "      <td>2022-06-15 16:55:00</td>\n",
       "      <td>UID-c6b214d6b1 UID-f93b5c2fdd UID-16473965d9 U...</td>\n",
       "    </tr>\n",
       "    <tr>\n",
       "      <td>2022-06-15 17:00:00</td>\n",
       "      <td>UID-c6b214d6b1 UID-f93b5c2fdd UID-16473965d9 U...</td>\n",
       "    </tr>\n",
       "    <tr>\n",
       "      <td>2022-06-15 17:05:00</td>\n",
       "      <td>UID-c6b214d6b1 UID-f93b5c2fdd UID-1639de2107 U...</td>\n",
       "    </tr>\n",
       "    <tr>\n",
       "      <td>...</td>\n",
       "      <td>...</td>\n",
       "    </tr>\n",
       "    <tr>\n",
       "      <td>2022-07-13 19:20:00</td>\n",
       "      <td>UID-496979fedc UID-ef3bccd626 UID-1ac801aa9f U...</td>\n",
       "    </tr>\n",
       "    <tr>\n",
       "      <td>2022-07-13 19:25:00</td>\n",
       "      <td>UID-ef3bccd626 UID-1ac801aa9f UID-6b26f4d1bb U...</td>\n",
       "    </tr>\n",
       "    <tr>\n",
       "      <td>2022-07-13 19:30:00</td>\n",
       "      <td>UID-ef3bccd626 UID-1ac801aa9f UID-6b26f4d1bb U...</td>\n",
       "    </tr>\n",
       "    <tr>\n",
       "      <td>2022-07-13 19:35:00</td>\n",
       "      <td>UID-27bedb030b UID-ef3bccd626 UID-1ac801aa9f U...</td>\n",
       "    </tr>\n",
       "    <tr>\n",
       "      <td>2022-07-13 19:40:00</td>\n",
       "      <td>UID-27bedb030b UID-ef3bccd626 UID-33f6b8c593 U...</td>\n",
       "    </tr>\n",
       "  </tbody>\n",
       "</table>\n",
       "<p>917 rows × 1 columns</p>\n",
       "</div>"
      ],
      "text/plain": [
       "                                                                 Value\n",
       "Timestep                                                              \n",
       "2022-06-15 16:45:00  UID-c6b214d6b1 UID-ce4c84e1af UID-f78ae1e66b U...\n",
       "2022-06-15 16:50:00  UID-c6b214d6b1 UID-ce4c84e1af UID-16473965d9 U...\n",
       "2022-06-15 16:55:00  UID-c6b214d6b1 UID-f93b5c2fdd UID-16473965d9 U...\n",
       "2022-06-15 17:00:00  UID-c6b214d6b1 UID-f93b5c2fdd UID-16473965d9 U...\n",
       "2022-06-15 17:05:00  UID-c6b214d6b1 UID-f93b5c2fdd UID-1639de2107 U...\n",
       "...                                                                ...\n",
       "2022-07-13 19:20:00  UID-496979fedc UID-ef3bccd626 UID-1ac801aa9f U...\n",
       "2022-07-13 19:25:00  UID-ef3bccd626 UID-1ac801aa9f UID-6b26f4d1bb U...\n",
       "2022-07-13 19:30:00  UID-ef3bccd626 UID-1ac801aa9f UID-6b26f4d1bb U...\n",
       "2022-07-13 19:35:00  UID-27bedb030b UID-ef3bccd626 UID-1ac801aa9f U...\n",
       "2022-07-13 19:40:00  UID-27bedb030b UID-ef3bccd626 UID-33f6b8c593 U...\n",
       "\n",
       "[917 rows x 1 columns]"
      ]
     },
     "execution_count": 22,
     "metadata": {},
     "output_type": "execute_result"
    }
   ],
   "source": [
    "site_2629_visit_data_2 =  pd.DataFrame(site_2629_data_2.groupby('Timestep')['Value'].apply(' '.join))\n",
    "site_5298_visit_data_2 =  pd.DataFrame(site_5298_data_2.groupby('Timestep')['Value'].apply(' '.join))\n",
    "site_5299_visit_data_2 =  pd.DataFrame(site_5299_data_2.groupby('Timestep')['Value'].apply(' '.join))\n",
    "site_10648_visit_data_2 =  pd.DataFrame(site_10648_data_2.groupby('Timestep')['Value'].apply(' '.join))\n",
    "site_7976_visit_data_2 =  pd.DataFrame(site_7976_data_2.groupby('Timestep')['Value'].apply(' '.join))\n",
    "site_2629_visit_data_2"
   ]
  },
  {
   "cell_type": "code",
   "execution_count": 23,
   "metadata": {},
   "outputs": [
    {
     "data": {
      "text/html": [
       "<div>\n",
       "<style scoped>\n",
       "    .dataframe tbody tr th:only-of-type {\n",
       "        vertical-align: middle;\n",
       "    }\n",
       "\n",
       "    .dataframe tbody tr th {\n",
       "        vertical-align: top;\n",
       "    }\n",
       "\n",
       "    .dataframe thead th {\n",
       "        text-align: right;\n",
       "    }\n",
       "</style>\n",
       "<table border=\"1\" class=\"dataframe\">\n",
       "  <thead>\n",
       "    <tr style=\"text-align: right;\">\n",
       "      <th></th>\n",
       "      <th>Value</th>\n",
       "      <th>Prev_value</th>\n",
       "    </tr>\n",
       "    <tr>\n",
       "      <th>Timestep</th>\n",
       "      <th></th>\n",
       "      <th></th>\n",
       "    </tr>\n",
       "  </thead>\n",
       "  <tbody>\n",
       "    <tr>\n",
       "      <td>2022-06-15 16:45:00</td>\n",
       "      <td>UID-c6b214d6b1 UID-ce4c84e1af UID-f78ae1e66b U...</td>\n",
       "      <td>NaN</td>\n",
       "    </tr>\n",
       "    <tr>\n",
       "      <td>2022-06-15 16:50:00</td>\n",
       "      <td>UID-c6b214d6b1 UID-ce4c84e1af UID-16473965d9 U...</td>\n",
       "      <td>UID-c6b214d6b1 UID-ce4c84e1af UID-f78ae1e66b U...</td>\n",
       "    </tr>\n",
       "    <tr>\n",
       "      <td>2022-06-15 16:55:00</td>\n",
       "      <td>UID-c6b214d6b1 UID-f93b5c2fdd UID-16473965d9 U...</td>\n",
       "      <td>UID-c6b214d6b1 UID-ce4c84e1af UID-16473965d9 U...</td>\n",
       "    </tr>\n",
       "    <tr>\n",
       "      <td>2022-06-15 17:00:00</td>\n",
       "      <td>UID-c6b214d6b1 UID-f93b5c2fdd UID-16473965d9 U...</td>\n",
       "      <td>UID-c6b214d6b1 UID-f93b5c2fdd UID-16473965d9 U...</td>\n",
       "    </tr>\n",
       "    <tr>\n",
       "      <td>2022-06-15 17:05:00</td>\n",
       "      <td>UID-c6b214d6b1 UID-f93b5c2fdd UID-1639de2107 U...</td>\n",
       "      <td>UID-c6b214d6b1 UID-f93b5c2fdd UID-16473965d9 U...</td>\n",
       "    </tr>\n",
       "    <tr>\n",
       "      <td>...</td>\n",
       "      <td>...</td>\n",
       "      <td>...</td>\n",
       "    </tr>\n",
       "    <tr>\n",
       "      <td>2022-07-13 19:20:00</td>\n",
       "      <td>UID-496979fedc UID-ef3bccd626 UID-1ac801aa9f U...</td>\n",
       "      <td>UID-496979fedc UID-ef3bccd626 UID-1ac801aa9f U...</td>\n",
       "    </tr>\n",
       "    <tr>\n",
       "      <td>2022-07-13 19:25:00</td>\n",
       "      <td>UID-ef3bccd626 UID-1ac801aa9f UID-6b26f4d1bb U...</td>\n",
       "      <td>UID-496979fedc UID-ef3bccd626 UID-1ac801aa9f U...</td>\n",
       "    </tr>\n",
       "    <tr>\n",
       "      <td>2022-07-13 19:30:00</td>\n",
       "      <td>UID-ef3bccd626 UID-1ac801aa9f UID-6b26f4d1bb U...</td>\n",
       "      <td>UID-ef3bccd626 UID-1ac801aa9f UID-6b26f4d1bb U...</td>\n",
       "    </tr>\n",
       "    <tr>\n",
       "      <td>2022-07-13 19:35:00</td>\n",
       "      <td>UID-27bedb030b UID-ef3bccd626 UID-1ac801aa9f U...</td>\n",
       "      <td>UID-ef3bccd626 UID-1ac801aa9f UID-6b26f4d1bb U...</td>\n",
       "    </tr>\n",
       "    <tr>\n",
       "      <td>2022-07-13 19:40:00</td>\n",
       "      <td>UID-27bedb030b UID-ef3bccd626 UID-33f6b8c593 U...</td>\n",
       "      <td>UID-27bedb030b UID-ef3bccd626 UID-1ac801aa9f U...</td>\n",
       "    </tr>\n",
       "  </tbody>\n",
       "</table>\n",
       "<p>917 rows × 2 columns</p>\n",
       "</div>"
      ],
      "text/plain": [
       "                                                                 Value  \\\n",
       "Timestep                                                                 \n",
       "2022-06-15 16:45:00  UID-c6b214d6b1 UID-ce4c84e1af UID-f78ae1e66b U...   \n",
       "2022-06-15 16:50:00  UID-c6b214d6b1 UID-ce4c84e1af UID-16473965d9 U...   \n",
       "2022-06-15 16:55:00  UID-c6b214d6b1 UID-f93b5c2fdd UID-16473965d9 U...   \n",
       "2022-06-15 17:00:00  UID-c6b214d6b1 UID-f93b5c2fdd UID-16473965d9 U...   \n",
       "2022-06-15 17:05:00  UID-c6b214d6b1 UID-f93b5c2fdd UID-1639de2107 U...   \n",
       "...                                                                ...   \n",
       "2022-07-13 19:20:00  UID-496979fedc UID-ef3bccd626 UID-1ac801aa9f U...   \n",
       "2022-07-13 19:25:00  UID-ef3bccd626 UID-1ac801aa9f UID-6b26f4d1bb U...   \n",
       "2022-07-13 19:30:00  UID-ef3bccd626 UID-1ac801aa9f UID-6b26f4d1bb U...   \n",
       "2022-07-13 19:35:00  UID-27bedb030b UID-ef3bccd626 UID-1ac801aa9f U...   \n",
       "2022-07-13 19:40:00  UID-27bedb030b UID-ef3bccd626 UID-33f6b8c593 U...   \n",
       "\n",
       "                                                            Prev_value  \n",
       "Timestep                                                                \n",
       "2022-06-15 16:45:00                                                NaN  \n",
       "2022-06-15 16:50:00  UID-c6b214d6b1 UID-ce4c84e1af UID-f78ae1e66b U...  \n",
       "2022-06-15 16:55:00  UID-c6b214d6b1 UID-ce4c84e1af UID-16473965d9 U...  \n",
       "2022-06-15 17:00:00  UID-c6b214d6b1 UID-f93b5c2fdd UID-16473965d9 U...  \n",
       "2022-06-15 17:05:00  UID-c6b214d6b1 UID-f93b5c2fdd UID-16473965d9 U...  \n",
       "...                                                                ...  \n",
       "2022-07-13 19:20:00  UID-496979fedc UID-ef3bccd626 UID-1ac801aa9f U...  \n",
       "2022-07-13 19:25:00  UID-496979fedc UID-ef3bccd626 UID-1ac801aa9f U...  \n",
       "2022-07-13 19:30:00  UID-ef3bccd626 UID-1ac801aa9f UID-6b26f4d1bb U...  \n",
       "2022-07-13 19:35:00  UID-ef3bccd626 UID-1ac801aa9f UID-6b26f4d1bb U...  \n",
       "2022-07-13 19:40:00  UID-27bedb030b UID-ef3bccd626 UID-1ac801aa9f U...  \n",
       "\n",
       "[917 rows x 2 columns]"
      ]
     },
     "execution_count": 23,
     "metadata": {},
     "output_type": "execute_result"
    }
   ],
   "source": [
    "site_2629_visit_data_2['Prev_value'] = site_2629_visit_data_2.shift(1)['Value']\n",
    "site_5298_visit_data_2['Prev_value'] = site_5298_visit_data_2.shift(1)['Value']\n",
    "site_5299_visit_data_2['Prev_value'] = site_5299_visit_data_2.shift(1)['Value']\n",
    "site_10648_visit_data_2['Prev_value'] = site_10648_visit_data_2.shift(1)['Value']\n",
    "site_7976_visit_data_2['Prev_value'] = site_7976_visit_data_2.shift(1)['Value']\n",
    "site_2629_visit_data_2"
   ]
  },
  {
   "cell_type": "code",
   "execution_count": 24,
   "metadata": {},
   "outputs": [
    {
     "data": {
      "text/html": [
       "<div>\n",
       "<style scoped>\n",
       "    .dataframe tbody tr th:only-of-type {\n",
       "        vertical-align: middle;\n",
       "    }\n",
       "\n",
       "    .dataframe tbody tr th {\n",
       "        vertical-align: top;\n",
       "    }\n",
       "\n",
       "    .dataframe thead th {\n",
       "        text-align: right;\n",
       "    }\n",
       "</style>\n",
       "<table border=\"1\" class=\"dataframe\">\n",
       "  <thead>\n",
       "    <tr style=\"text-align: right;\">\n",
       "      <th></th>\n",
       "      <th>count</th>\n",
       "    </tr>\n",
       "    <tr>\n",
       "      <th>Timestep</th>\n",
       "      <th></th>\n",
       "    </tr>\n",
       "  </thead>\n",
       "  <tbody>\n",
       "    <tr>\n",
       "      <td>2022-06-15 16:45:00</td>\n",
       "      <td>4</td>\n",
       "    </tr>\n",
       "    <tr>\n",
       "      <td>2022-06-15 16:50:00</td>\n",
       "      <td>2</td>\n",
       "    </tr>\n",
       "    <tr>\n",
       "      <td>2022-06-15 16:55:00</td>\n",
       "      <td>3</td>\n",
       "    </tr>\n",
       "    <tr>\n",
       "      <td>2022-06-15 17:00:00</td>\n",
       "      <td>1</td>\n",
       "    </tr>\n",
       "    <tr>\n",
       "      <td>2022-06-15 17:05:00</td>\n",
       "      <td>3</td>\n",
       "    </tr>\n",
       "    <tr>\n",
       "      <td>...</td>\n",
       "      <td>...</td>\n",
       "    </tr>\n",
       "    <tr>\n",
       "      <td>2022-07-13 19:20:00</td>\n",
       "      <td>2</td>\n",
       "    </tr>\n",
       "    <tr>\n",
       "      <td>2022-07-13 19:25:00</td>\n",
       "      <td>4</td>\n",
       "    </tr>\n",
       "    <tr>\n",
       "      <td>2022-07-13 19:30:00</td>\n",
       "      <td>5</td>\n",
       "    </tr>\n",
       "    <tr>\n",
       "      <td>2022-07-13 19:35:00</td>\n",
       "      <td>2</td>\n",
       "    </tr>\n",
       "    <tr>\n",
       "      <td>2022-07-13 19:40:00</td>\n",
       "      <td>3</td>\n",
       "    </tr>\n",
       "  </tbody>\n",
       "</table>\n",
       "<p>917 rows × 1 columns</p>\n",
       "</div>"
      ],
      "text/plain": [
       "                     count\n",
       "Timestep                  \n",
       "2022-06-15 16:45:00      4\n",
       "2022-06-15 16:50:00      2\n",
       "2022-06-15 16:55:00      3\n",
       "2022-06-15 17:00:00      1\n",
       "2022-06-15 17:05:00      3\n",
       "...                    ...\n",
       "2022-07-13 19:20:00      2\n",
       "2022-07-13 19:25:00      4\n",
       "2022-07-13 19:30:00      5\n",
       "2022-07-13 19:35:00      2\n",
       "2022-07-13 19:40:00      3\n",
       "\n",
       "[917 rows x 1 columns]"
      ]
     },
     "execution_count": 24,
     "metadata": {},
     "output_type": "execute_result"
    }
   ],
   "source": [
    "import numpy as np\n",
    "def func2(x):\n",
    "#     print(x)\n",
    "    if pd.isna(x['Value'])==False:\n",
    "        a = set(x['Value'].split())\n",
    "    else:\n",
    "        a=set()\n",
    "    \n",
    "    if pd.isna(x['Prev_value'])==False:\n",
    "        b = set(x['Prev_value'].split())\n",
    "    else:\n",
    "        b = set()\n",
    "#     print(x, y, y.difference(x))\n",
    "    return len(a.difference(b))\n",
    "    \n",
    "# r =pd.DataFrame([func(x, y) for x, y in zip(df1['Value'], df2['Value'])])\n",
    "site_2629_visit_data_2['count']=site_2629_visit_data_2.apply(lambda x: func2(x),  axis=1)\n",
    "site_2629_visit_data_2=site_2629_visit_data_2[['count']]\n",
    "\n",
    "site_5298_visit_data_2['count']=site_5298_visit_data_2.apply(lambda x: func2(x),  axis=1)\n",
    "site_5298_visit_data_2=site_5298_visit_data_2[['count']]\n",
    "\n",
    "site_5299_visit_data_2['count']=site_5299_visit_data_2.apply(lambda x: func2(x),  axis=1)\n",
    "site_5299_visit_data_2=site_5299_visit_data_2[['count']]\n",
    "\n",
    "site_10648_visit_data_2['count']=site_10648_visit_data_2.apply(lambda x: func2(x),  axis=1)\n",
    "site_10648_visit_data_2=site_10648_visit_data_2[['count']]\n",
    "\n",
    "site_7976_visit_data_2['count']=site_7976_visit_data_2.apply(lambda x: func2(x),  axis=1)\n",
    "site_7976_visit_data_2=site_7976_visit_data_2[['count']]\n",
    "site_2629_visit_data_2"
   ]
  },
  {
   "cell_type": "code",
   "execution_count": 25,
   "metadata": {},
   "outputs": [
    {
     "data": {
      "text/html": [
       "<div>\n",
       "<style scoped>\n",
       "    .dataframe tbody tr th:only-of-type {\n",
       "        vertical-align: middle;\n",
       "    }\n",
       "\n",
       "    .dataframe tbody tr th {\n",
       "        vertical-align: top;\n",
       "    }\n",
       "\n",
       "    .dataframe thead th {\n",
       "        text-align: right;\n",
       "    }\n",
       "</style>\n",
       "<table border=\"1\" class=\"dataframe\">\n",
       "  <thead>\n",
       "    <tr style=\"text-align: right;\">\n",
       "      <th></th>\n",
       "      <th>count</th>\n",
       "    </tr>\n",
       "    <tr>\n",
       "      <th>Timestep</th>\n",
       "      <th></th>\n",
       "    </tr>\n",
       "  </thead>\n",
       "  <tbody>\n",
       "    <tr>\n",
       "      <td>2022-06-15</td>\n",
       "      <td>70</td>\n",
       "    </tr>\n",
       "    <tr>\n",
       "      <td>2022-06-16</td>\n",
       "      <td>64</td>\n",
       "    </tr>\n",
       "    <tr>\n",
       "      <td>2022-06-17</td>\n",
       "      <td>30</td>\n",
       "    </tr>\n",
       "    <tr>\n",
       "      <td>2022-06-18</td>\n",
       "      <td>5</td>\n",
       "    </tr>\n",
       "    <tr>\n",
       "      <td>2022-06-19</td>\n",
       "      <td>82</td>\n",
       "    </tr>\n",
       "    <tr>\n",
       "      <td>2022-06-20</td>\n",
       "      <td>77</td>\n",
       "    </tr>\n",
       "    <tr>\n",
       "      <td>2022-06-21</td>\n",
       "      <td>46</td>\n",
       "    </tr>\n",
       "    <tr>\n",
       "      <td>2022-06-22</td>\n",
       "      <td>10</td>\n",
       "    </tr>\n",
       "    <tr>\n",
       "      <td>2022-06-23</td>\n",
       "      <td>71</td>\n",
       "    </tr>\n",
       "    <tr>\n",
       "      <td>2022-06-24</td>\n",
       "      <td>59</td>\n",
       "    </tr>\n",
       "    <tr>\n",
       "      <td>2022-06-25</td>\n",
       "      <td>84</td>\n",
       "    </tr>\n",
       "    <tr>\n",
       "      <td>2022-06-26</td>\n",
       "      <td>101</td>\n",
       "    </tr>\n",
       "    <tr>\n",
       "      <td>2022-06-27</td>\n",
       "      <td>63</td>\n",
       "    </tr>\n",
       "    <tr>\n",
       "      <td>2022-06-28</td>\n",
       "      <td>0</td>\n",
       "    </tr>\n",
       "    <tr>\n",
       "      <td>2022-06-29</td>\n",
       "      <td>60</td>\n",
       "    </tr>\n",
       "    <tr>\n",
       "      <td>2022-06-30</td>\n",
       "      <td>0</td>\n",
       "    </tr>\n",
       "    <tr>\n",
       "      <td>2022-07-01</td>\n",
       "      <td>0</td>\n",
       "    </tr>\n",
       "    <tr>\n",
       "      <td>2022-07-02</td>\n",
       "      <td>90</td>\n",
       "    </tr>\n",
       "    <tr>\n",
       "      <td>2022-07-03</td>\n",
       "      <td>33</td>\n",
       "    </tr>\n",
       "    <tr>\n",
       "      <td>2022-07-04</td>\n",
       "      <td>67</td>\n",
       "    </tr>\n",
       "    <tr>\n",
       "      <td>2022-07-05</td>\n",
       "      <td>0</td>\n",
       "    </tr>\n",
       "    <tr>\n",
       "      <td>2022-07-06</td>\n",
       "      <td>58</td>\n",
       "    </tr>\n",
       "    <tr>\n",
       "      <td>2022-07-07</td>\n",
       "      <td>0</td>\n",
       "    </tr>\n",
       "    <tr>\n",
       "      <td>2022-07-08</td>\n",
       "      <td>25</td>\n",
       "    </tr>\n",
       "    <tr>\n",
       "      <td>2022-07-09</td>\n",
       "      <td>49</td>\n",
       "    </tr>\n",
       "    <tr>\n",
       "      <td>2022-07-10</td>\n",
       "      <td>0</td>\n",
       "    </tr>\n",
       "    <tr>\n",
       "      <td>2022-07-11</td>\n",
       "      <td>69</td>\n",
       "    </tr>\n",
       "    <tr>\n",
       "      <td>2022-07-12</td>\n",
       "      <td>0</td>\n",
       "    </tr>\n",
       "    <tr>\n",
       "      <td>2022-07-13</td>\n",
       "      <td>74</td>\n",
       "    </tr>\n",
       "  </tbody>\n",
       "</table>\n",
       "</div>"
      ],
      "text/plain": [
       "            count\n",
       "Timestep         \n",
       "2022-06-15     70\n",
       "2022-06-16     64\n",
       "2022-06-17     30\n",
       "2022-06-18      5\n",
       "2022-06-19     82\n",
       "2022-06-20     77\n",
       "2022-06-21     46\n",
       "2022-06-22     10\n",
       "2022-06-23     71\n",
       "2022-06-24     59\n",
       "2022-06-25     84\n",
       "2022-06-26    101\n",
       "2022-06-27     63\n",
       "2022-06-28      0\n",
       "2022-06-29     60\n",
       "2022-06-30      0\n",
       "2022-07-01      0\n",
       "2022-07-02     90\n",
       "2022-07-03     33\n",
       "2022-07-04     67\n",
       "2022-07-05      0\n",
       "2022-07-06     58\n",
       "2022-07-07      0\n",
       "2022-07-08     25\n",
       "2022-07-09     49\n",
       "2022-07-10      0\n",
       "2022-07-11     69\n",
       "2022-07-12      0\n",
       "2022-07-13     74"
      ]
     },
     "execution_count": 25,
     "metadata": {},
     "output_type": "execute_result"
    }
   ],
   "source": [
    "site_2629_visit_data_2.index = pd.to_datetime(site_2629_visit_data_2.index)\n",
    "site_5298_visit_data_2.index = pd.to_datetime(site_5298_visit_data_2.index)\n",
    "site_5299_visit_data_2.index = pd.to_datetime(site_5299_visit_data_2.index)\n",
    "site_10648_visit_data_2.index = pd.to_datetime(site_10648_visit_data_2.index)\n",
    "site_7976_visit_data_2.index = pd.to_datetime(site_7976_visit_data_2.index)\n",
    "\n",
    "site_2629_visit_data_2=site_2629_visit_data_2.resample('D').sum()\n",
    "site_5298_visit_data_2=site_5298_visit_data_2.resample('D').sum()\n",
    "site_5299_visit_data_2=site_5299_visit_data_2.resample('D').sum()\n",
    "site_10648_visit_data_2=site_10648_visit_data_2.resample('D').sum()\n",
    "site_7976_visit_data_2=site_7976_visit_data_2.resample('D').sum()\n",
    "\n",
    "site_2629_visit_data_2"
   ]
  },
  {
   "cell_type": "code",
   "execution_count": 26,
   "metadata": {},
   "outputs": [
    {
     "data": {
      "text/plain": [
       "array([<matplotlib.axes._subplots.AxesSubplot object at 0x7f73ae91f8d0>],\n",
       "      dtype=object)"
      ]
     },
     "execution_count": 26,
     "metadata": {},
     "output_type": "execute_result"
    },
    {
     "data": {
      "image/png": "[encoded data removed]",
      "text/plain": [
       "<Figure size 432x288 with 1 Axes>"
      ]
     },
     "metadata": {
      "needs_background": "light"
     },
     "output_type": "display_data"
    }
   ],
   "source": [
    "site_2629_visit_data_2.plot(subplots=True)"
   ]
  },
  {
   "cell_type": "code",
   "execution_count": 21,
   "metadata": {},
   "outputs": [
    {
     "data": {
      "text/html": [
       "<div>\n",
       "<style scoped>\n",
       "    .dataframe tbody tr th:only-of-type {\n",
       "        vertical-align: middle;\n",
       "    }\n",
       "\n",
       "    .dataframe tbody tr th {\n",
       "        vertical-align: top;\n",
       "    }\n",
       "\n",
       "    .dataframe thead th {\n",
       "        text-align: right;\n",
       "    }\n",
       "</style>\n",
       "<table border=\"1\" class=\"dataframe\">\n",
       "  <thead>\n",
       "    <tr style=\"text-align: right;\">\n",
       "      <th></th>\n",
       "      <th>count</th>\n",
       "    </tr>\n",
       "    <tr>\n",
       "      <th>Timestep</th>\n",
       "      <th></th>\n",
       "    </tr>\n",
       "  </thead>\n",
       "  <tbody>\n",
       "    <tr>\n",
       "      <td>2019-08-01</td>\n",
       "      <td>NaN</td>\n",
       "    </tr>\n",
       "    <tr>\n",
       "      <td>2019-08-02</td>\n",
       "      <td>294.0</td>\n",
       "    </tr>\n",
       "    <tr>\n",
       "      <td>2019-08-03</td>\n",
       "      <td>268.0</td>\n",
       "    </tr>\n",
       "    <tr>\n",
       "      <td>2019-08-04</td>\n",
       "      <td>545.0</td>\n",
       "    </tr>\n",
       "    <tr>\n",
       "      <td>2019-08-05</td>\n",
       "      <td>497.0</td>\n",
       "    </tr>\n",
       "    <tr>\n",
       "      <td>...</td>\n",
       "      <td>...</td>\n",
       "    </tr>\n",
       "    <tr>\n",
       "      <td>2019-10-27</td>\n",
       "      <td>220.0</td>\n",
       "    </tr>\n",
       "    <tr>\n",
       "      <td>2019-10-28</td>\n",
       "      <td>209.0</td>\n",
       "    </tr>\n",
       "    <tr>\n",
       "      <td>2019-10-29</td>\n",
       "      <td>125.0</td>\n",
       "    </tr>\n",
       "    <tr>\n",
       "      <td>2019-10-30</td>\n",
       "      <td>121.0</td>\n",
       "    </tr>\n",
       "    <tr>\n",
       "      <td>2019-10-31</td>\n",
       "      <td>113.0</td>\n",
       "    </tr>\n",
       "  </tbody>\n",
       "</table>\n",
       "<p>92 rows × 1 columns</p>\n",
       "</div>"
      ],
      "text/plain": [
       "            count\n",
       "Timestep         \n",
       "2019-08-01    NaN\n",
       "2019-08-02  294.0\n",
       "2019-08-03  268.0\n",
       "2019-08-04  545.0\n",
       "2019-08-05  497.0\n",
       "...           ...\n",
       "2019-10-27  220.0\n",
       "2019-10-28  209.0\n",
       "2019-10-29  125.0\n",
       "2019-10-30  121.0\n",
       "2019-10-31  113.0\n",
       "\n",
       "[92 rows x 1 columns]"
      ]
     },
     "execution_count": 21,
     "metadata": {},
     "output_type": "execute_result"
    },
    {
     "data": {
      "image/png": "[encoded data removed]",
      "text/plain": [
       "<Figure size 1080x720 with 1 Axes>"
      ]
     },
     "metadata": {
      "needs_background": "light"
     },
     "output_type": "display_data"
    }
   ],
   "source": [
    "df = pd.concat([site_2629_visit_data, site_2629_visit_data_2])\n",
    "df.plot(subplots=True, figsize=(15, 10))\n",
    "df.head(121)\n",
    "y_pred = site_2629_visit_data.shift(1)\n",
    "y_pred\n",
    "\n"
   ]
  },
  {
   "cell_type": "markdown",
   "metadata": {},
   "source": [
    "<h1 style=\"font-size:2em;color:#2467C0\">Time series windowing</h1>"
   ]
  },
  {
   "cell_type": "code",
   "execution_count": 27,
   "metadata": {},
   "outputs": [],
   "source": [
    "def univariate_data(dataset, start_index, end_index, history_size, target_size,  single_step=False):\n",
    "  data = []\n",
    "  labels = []\n",
    "\n",
    "  start_index = start_index + history_size\n",
    "  if end_index is None:\n",
    "    end_index = len(dataset) - target_size\n",
    "\n",
    "  for i in range(start_index, end_index):\n",
    "    indices = range(i-history_size, i)\n",
    "    # Reshape data from (history_size,) to (history_size, 1)\n",
    "#     print(dataset.shape)        \n",
    "    data.append(np.reshape(dataset[indices], (history_size, 1)))\n",
    "#     print(dataset.shape)\n",
    "#     labels.append(dataset[i+target_size])\n",
    "    if single_step:\n",
    "      labels.append(dataset[i+target_size])\n",
    "    else:\n",
    "      labels.append(dataset[i:i+target_size])\n",
    "    \n",
    "  return np.array(data), np.array(labels)\n",
    "\n",
    "def multivariate_data(dataset, target, start_index, end_index, history_size,\n",
    "                      target_size, step, single_step=False):\n",
    "  data = []\n",
    "  labels = []\n",
    "\n",
    "  start_index = start_index + history_size\n",
    "  if end_index is None:\n",
    "    end_index = len(dataset) - target_size\n",
    "\n",
    "  for i in range(start_index, end_index):\n",
    "    indices = range(i-history_size, i, step)\n",
    "    data.append(dataset[indices])\n",
    "\n",
    "    if single_step:\n",
    "      labels.append(target[i+target_size])\n",
    "    else:\n",
    "      labels.append(target[i:i+target_size])\n",
    "\n",
    "  return np.array(data), np.array(labels)\n",
    "\n",
    "def normalize(data, train_split):\n",
    "    mean = data[:TRAIN_SPLIT].mean()\n",
    "    std = data[:TRAIN_SPLIT].std()\n",
    "    data = (data-mean)/std\n",
    "    return data\n",
    "\n",
    "def create_time_steps(length):\n",
    "  time_steps = []\n",
    "  for i in range(-length, 0, 1):\n",
    "    time_steps.append(i)\n",
    "  return time_steps\n",
    "\n",
    "def show_plot(plot_data, delta, title):\n",
    "  labels = ['History', 'True Future', 'Model Prediction']\n",
    "  marker = ['.-', 'rx', 'go']\n",
    "  time_steps = create_time_steps(plot_data[0].shape[0])\n",
    "  if delta:\n",
    "    future = delta\n",
    "  else:\n",
    "    future = 0\n",
    "\n",
    "  plt.title(title)\n",
    "  for i, x in enumerate(plot_data):\n",
    "    if i:\n",
    "      plt.plot(future, plot_data[i], marker[i], markersize=10,\n",
    "               label=labels[i])\n",
    "    else:\n",
    "      plt.plot(time_steps, plot_data[i].flatten(), marker[i], label=labels[i])\n",
    "  plt.legend()\n",
    "  plt.xlim([time_steps[0], (future+5)*2])\n",
    "  plt.xlabel('Time-Step')\n",
    "  return plt\n",
    "\n",
    "def multi_step_plot(history, true_future, prediction):\n",
    "  plt.figure(figsize=(12, 6))\n",
    "  num_in = create_time_steps(len(history))\n",
    "  num_out = len(true_future)\n",
    "  STEP = 1\n",
    "\n",
    "  plt.plot(num_in, np.array(history), label='History')\n",
    "  plt.plot(np.arange(num_out)/STEP, np.array(true_future), 'bo',\n",
    "           label='True Future')\n",
    "  if prediction.any():\n",
    "    plt.plot(np.arange(num_out)/STEP, np.array(prediction), 'ro',\n",
    "             label='Predicted Future')\n",
    "  plt.legend(loc='upper left')\n",
    "  plt.show()"
   ]
  },
  {
   "cell_type": "code",
   "execution_count": 28,
   "metadata": {},
   "outputs": [],
   "source": [
    "TRAIN_SPLIT = 60"
   ]
  },
  {
   "cell_type": "code",
   "execution_count": 31,
   "metadata": {},
   "outputs": [
    {
     "data": {
      "text/plain": [
       "(92, 1)"
      ]
     },
     "execution_count": 31,
     "metadata": {},
     "output_type": "execute_result"
    }
   ],
   "source": [
    "site_2629_visit_values = normalize(site_2629_visit_data.values, TRAIN_SPLIT)\n",
    "site_2629_visit_values.shape"
   ]
  },
  {
   "cell_type": "code",
   "execution_count": 32,
   "metadata": {},
   "outputs": [],
   "source": [
    "univariate_past_history = 5\n",
    "univariate_future_target = 5\n",
    "\n",
    "x_train, y_train = univariate_data(site_2629_visit_values, 0, TRAIN_SPLIT,\n",
    "                                           univariate_past_history,\n",
    "                                           univariate_future_target)\n",
    "x_val, y_val = univariate_data(site_2629_visit_values, TRAIN_SPLIT, None,\n",
    "                                       univariate_past_history,\n",
    "                                       univariate_future_target)"
   ]
  },
  {
   "cell_type": "code",
   "execution_count": 33,
   "metadata": {},
   "outputs": [
    {
     "name": "stdout",
     "output_type": "stream",
     "text": [
      "Single window of past history\n",
      "[[294]\n",
      " [268]\n",
      " [545]\n",
      " [497]\n",
      " [205]]\n",
      "(5, 1)\n",
      "[[545]\n",
      " [497]\n",
      " [205]\n",
      " [214]\n",
      " [290]]\n",
      "\n",
      " Target temperature to predict\n",
      "[[214]\n",
      " [290]\n",
      " [253]\n",
      " [239]\n",
      " [525]]\n"
     ]
    }
   ],
   "source": [
    "print ('Single window of past history')\n",
    "print (x_train[0])\n",
    "print(x_train.shape[-2:])\n",
    "print (x_train[2])\n",
    "print ('\\n Target temperature to predict')\n",
    "print (y_train[0])\n"
   ]
  },
  {
   "cell_type": "code",
   "execution_count": 34,
   "metadata": {},
   "outputs": [
    {
     "ename": "TypeError",
     "evalue": "object of type 'int' has no len()",
     "output_type": "error",
     "traceback": [
      "\u001b[0;31m---------------------------------------------------------------------------\u001b[0m",
      "\u001b[0;31mTypeError\u001b[0m                                 Traceback (most recent call last)",
      "\u001b[0;32m<ipython-input-34-08cff0d6b000>\u001b[0m in \u001b[0;36m<module>\u001b[0;34m\u001b[0m\n\u001b[1;32m      1\u001b[0m \u001b[0;31m# site_2629_visit_data.plot()\u001b[0m\u001b[0;34m\u001b[0m\u001b[0;34m\u001b[0m\u001b[0;34m\u001b[0m\u001b[0m\n\u001b[0;32m----> 2\u001b[0;31m \u001b[0mmulti_step_plot\u001b[0m\u001b[0;34m(\u001b[0m\u001b[0;34m[\u001b[0m\u001b[0mx_train\u001b[0m\u001b[0;34m[\u001b[0m\u001b[0;36m0\u001b[0m\u001b[0;34m]\u001b[0m\u001b[0;34m,\u001b[0m \u001b[0my_train\u001b[0m\u001b[0;34m[\u001b[0m\u001b[0;36m0\u001b[0m\u001b[0;34m]\u001b[0m\u001b[0;34m]\u001b[0m\u001b[0;34m,\u001b[0m \u001b[0;36m0\u001b[0m\u001b[0;34m,\u001b[0m \u001b[0;34m'site-2629-data'\u001b[0m\u001b[0;34m)\u001b[0m\u001b[0;34m\u001b[0m\u001b[0;34m\u001b[0m\u001b[0m\n\u001b[0m",
      "\u001b[0;32m<ipython-input-27-d985a893f34c>\u001b[0m in \u001b[0;36mmulti_step_plot\u001b[0;34m(history, true_future, prediction)\u001b[0m\n\u001b[1;32m     77\u001b[0m   \u001b[0mplt\u001b[0m\u001b[0;34m.\u001b[0m\u001b[0mfigure\u001b[0m\u001b[0;34m(\u001b[0m\u001b[0mfigsize\u001b[0m\u001b[0;34m=\u001b[0m\u001b[0;34m(\u001b[0m\u001b[0;36m12\u001b[0m\u001b[0;34m,\u001b[0m \u001b[0;36m6\u001b[0m\u001b[0;34m)\u001b[0m\u001b[0;34m)\u001b[0m\u001b[0;34m\u001b[0m\u001b[0;34m\u001b[0m\u001b[0m\n\u001b[1;32m     78\u001b[0m   \u001b[0mnum_in\u001b[0m \u001b[0;34m=\u001b[0m \u001b[0mcreate_time_steps\u001b[0m\u001b[0;34m(\u001b[0m\u001b[0mlen\u001b[0m\u001b[0;34m(\u001b[0m\u001b[0mhistory\u001b[0m\u001b[0;34m)\u001b[0m\u001b[0;34m)\u001b[0m\u001b[0;34m\u001b[0m\u001b[0;34m\u001b[0m\u001b[0m\n\u001b[0;32m---> 79\u001b[0;31m   \u001b[0mnum_out\u001b[0m \u001b[0;34m=\u001b[0m \u001b[0mlen\u001b[0m\u001b[0;34m(\u001b[0m\u001b[0mtrue_future\u001b[0m\u001b[0;34m)\u001b[0m\u001b[0;34m\u001b[0m\u001b[0;34m\u001b[0m\u001b[0m\n\u001b[0m\u001b[1;32m     80\u001b[0m   \u001b[0mSTEP\u001b[0m \u001b[0;34m=\u001b[0m \u001b[0;36m1\u001b[0m\u001b[0;34m\u001b[0m\u001b[0;34m\u001b[0m\u001b[0m\n\u001b[1;32m     81\u001b[0m \u001b[0;34m\u001b[0m\u001b[0m\n",
      "\u001b[0;31mTypeError\u001b[0m: object of type 'int' has no len()"
     ]
    },
    {
     "data": {
      "text/plain": [
       "<Figure size 864x432 with 0 Axes>"
      ]
     },
     "metadata": {},
     "output_type": "display_data"
    }
   ],
   "source": [
    "# site_2629_visit_data.plot()\n",
    "multi_step_plot([x_train[0], y_train[0]], 0, 'site-2629-data')"
   ]
  },
  {
   "cell_type": "code",
   "execution_count": 35,
   "metadata": {},
   "outputs": [],
   "source": [
    "import tensorflow as tf\n",
    "BUFFER_SIZE = 10000\n",
    "BATCH_SIZE = 100\n",
    "train_data = tf.data.Dataset.from_tensor_slices((x_train, y_train))\n",
    "train_data = train_data.cache().shuffle(BUFFER_SIZE).batch(BATCH_SIZE).repeat()\n",
    "\n",
    "val_data = tf.data.Dataset.from_tensor_slices((x_val, y_val))\n",
    "val_data = val_data.batch(BATCH_SIZE).repeat()"
   ]
  },
  {
   "cell_type": "code",
   "execution_count": 35,
   "metadata": {},
   "outputs": [
    {
     "data": {
      "text/plain": [
       "(55, 5, 1)"
      ]
     },
     "execution_count": 35,
     "metadata": {},
     "output_type": "execute_result"
    }
   ],
   "source": [
    "simple_lstm_model = tf.keras.models.Sequential([\n",
    "    tf.keras.layers.LSTM(8, input_shape=x_train.shape[-2:]),\n",
    "    tf.keras.layers.Dense(1)\n",
    "])\n",
    "\n",
    "simple_lstm_model.compile(optimizer='adam', loss='mae')\n",
    "y_train.shape"
   ]
  },
  {
   "cell_type": "code",
   "execution_count": 36,
   "metadata": {},
   "outputs": [],
   "source": [
    "multi_step_model = tf.keras.models.Sequential()\n",
    "multi_step_model.add(tf.keras.layers.LSTM(16,\n",
    "                                          return_sequences=True,\n",
    "                                          input_shape=x_train.shape[-2:]))\n",
    "multi_step_model.add(tf.keras.layers.LSTM(8, activation='relu'))\n",
    "multi_step_model.add(tf.keras.layers.Dense(5))\n",
    "\n",
    "multi_step_model.compile(optimizer=tf.keras.optimizers.RMSprop(clipvalue=1.0), loss='mae')"
   ]
  },
  {
   "cell_type": "code",
   "execution_count": null,
   "metadata": {},
   "outputs": [],
   "source": []
  },
  {
   "cell_type": "code",
   "execution_count": 37,
   "metadata": {},
   "outputs": [
    {
     "ename": "NameError",
     "evalue": "name 'simple_lstm_model' is not defined",
     "output_type": "error",
     "traceback": [
      "\u001b[0;31m---------------------------------------------------------------------------\u001b[0m",
      "\u001b[0;31mNameError\u001b[0m                                 Traceback (most recent call last)",
      "\u001b[0;32m<ipython-input-37-c780503a9ebd>\u001b[0m in \u001b[0;36m<module>\u001b[0;34m\u001b[0m\n\u001b[1;32m      1\u001b[0m \u001b[0;32mfor\u001b[0m \u001b[0mx\u001b[0m\u001b[0;34m,\u001b[0m \u001b[0my\u001b[0m \u001b[0;32min\u001b[0m \u001b[0mval_data\u001b[0m\u001b[0;34m.\u001b[0m\u001b[0mtake\u001b[0m\u001b[0;34m(\u001b[0m\u001b[0;36m1\u001b[0m\u001b[0;34m)\u001b[0m\u001b[0;34m:\u001b[0m\u001b[0;34m\u001b[0m\u001b[0;34m\u001b[0m\u001b[0m\n\u001b[0;32m----> 2\u001b[0;31m     \u001b[0mprint\u001b[0m\u001b[0;34m(\u001b[0m\u001b[0msimple_lstm_model\u001b[0m\u001b[0;34m.\u001b[0m\u001b[0mpredict\u001b[0m\u001b[0;34m(\u001b[0m\u001b[0mx\u001b[0m\u001b[0;34m)\u001b[0m\u001b[0;34m.\u001b[0m\u001b[0mshape\u001b[0m\u001b[0;34m)\u001b[0m\u001b[0;34m\u001b[0m\u001b[0;34m\u001b[0m\u001b[0m\n\u001b[0m",
      "\u001b[0;31mNameError\u001b[0m: name 'simple_lstm_model' is not defined"
     ]
    }
   ],
   "source": [
    "for x, y in val_data.take(1):\n",
    "    print(simple_lstm_model.predict(x).shape)"
   ]
  },
  {
   "cell_type": "code",
   "execution_count": 39,
   "metadata": {},
   "outputs": [
    {
     "name": "stdout",
     "output_type": "stream",
     "text": [
      "Train for 200 steps, validate for 50 steps\n",
      "Epoch 1/10\n",
      "200/200 [==============================] - 1s 7ms/step - loss: 51.2122 - val_loss: 34.3388\n",
      "Epoch 2/10\n",
      "200/200 [==============================] - 1s 4ms/step - loss: 51.0873 - val_loss: 37.4723\n",
      "Epoch 3/10\n",
      "200/200 [==============================] - 1s 4ms/step - loss: 50.8614 - val_loss: 35.0587\n",
      "Epoch 4/10\n",
      "200/200 [==============================] - 1s 4ms/step - loss: 50.6248 - val_loss: 41.1619\n",
      "Epoch 5/10\n",
      "200/200 [==============================] - 1s 4ms/step - loss: 50.4604 - val_loss: 43.7822\n",
      "Epoch 6/10\n",
      "200/200 [==============================] - 1s 4ms/step - loss: 50.2129 - val_loss: 33.8810\n",
      "Epoch 7/10\n",
      "200/200 [==============================] - 1s 5ms/step - loss: 50.0099 - val_loss: 35.2276\n",
      "Epoch 8/10\n",
      "200/200 [==============================] - 1s 6ms/step - loss: 49.7509 - val_loss: 44.1012\n",
      "Epoch 9/10\n",
      "200/200 [==============================] - 1s 4ms/step - loss: 49.4435 - val_loss: 34.7854\n",
      "Epoch 10/10\n",
      "200/200 [==============================] - 1s 4ms/step - loss: 49.1514 - val_loss: 43.1810\n"
     ]
    },
    {
     "data": {
      "text/plain": [
       "<tensorflow.python.keras.callbacks.History at 0x7f730e108b10>"
      ]
     },
     "execution_count": 39,
     "metadata": {},
     "output_type": "execute_result"
    }
   ],
   "source": [
    "EVALUATION_INTERVAL = 200\n",
    "EPOCHS = 10\n",
    "\n",
    "multi_step_model.fit(train_data, epochs=EPOCHS,\n",
    "                      steps_per_epoch=EVALUATION_INTERVAL,\n",
    "                      validation_data=val_data, validation_steps=50)"
   ]
  },
  {
   "cell_type": "code",
   "execution_count": null,
   "metadata": {},
   "outputs": [],
   "source": [
    "for x, y in train_data.take(1):\n",
    "  multi_step_plot(x[0], y[0], multi_step_model.predict(x)[0])"
   ]
  },
  {
   "cell_type": "code",
   "execution_count": 40,
   "metadata": {},
   "outputs": [
    {
     "data": {
      "text/plain": [
       "array([<matplotlib.axes._subplots.AxesSubplot object at 0x7f730e10ac90>],\n",
       "      dtype=object)"
      ]
     },
     "execution_count": 40,
     "metadata": {},
     "output_type": "execute_result"
    },
    {
     "data": {
      "image/png": "[encoded data removed]",
      "text/plain": [
       "<Figure size 1080x720 with 1 Axes>"
      ]
     },
     "metadata": {
      "needs_background": "light"
     },
     "output_type": "display_data"
    }
   ],
   "source": [
    "df = pd.concat([site_5298_visit_data, site_5298_visit_data_2])\n",
    "site_5298_visit_data.plot(subplots=True, figsize=(15, 10))"
   ]
  },
  {
   "cell_type": "code",
   "execution_count": null,
   "metadata": {},
   "outputs": [],
   "source": []
  },
  {
   "cell_type": "code",
   "execution_count": null,
   "metadata": {},
   "outputs": [],
   "source": []
  },
  {
   "cell_type": "code",
   "execution_count": 41,
   "metadata": {},
   "outputs": [
    {
     "data": {
      "text/plain": [
       "array([<matplotlib.axes._subplots.AxesSubplot object at 0x7f730e0cb410>],\n",
       "      dtype=object)"
      ]
     },
     "execution_count": 41,
     "metadata": {},
     "output_type": "execute_result"
    },
    {
     "data": {
      "image/png": "[encoded data removed]",
      "text/plain": [
       "<Figure size 1080x360 with 1 Axes>"
      ]
     },
     "metadata": {
      "needs_background": "light"
     },
     "output_type": "display_data"
    }
   ],
   "source": [
    "df = pd.concat([site_5299_visit_data, site_5299_visit_data_2])\n",
    "df.plot(subplots=True, figsize=(15, 5))"
   ]
  },
  {
   "cell_type": "code",
   "execution_count": 42,
   "metadata": {},
   "outputs": [
    {
     "data": {
      "text/plain": [
       "array([<matplotlib.axes._subplots.AxesSubplot object at 0x7f730e017310>],\n",
       "      dtype=object)"
      ]
     },
     "execution_count": 42,
     "metadata": {},
     "output_type": "execute_result"
    },
    {
     "data": {
      "image/png": "[encoded data removed]",
      "text/plain": [
       "<Figure size 1080x360 with 1 Axes>"
      ]
     },
     "metadata": {
      "needs_background": "light"
     },
     "output_type": "display_data"
    }
   ],
   "source": [
    "df = pd.concat([site_10648_visit_data, site_10648_visit_data_2])\n",
    "df.plot(subplots=True, figsize=(15, 5))"
   ]
  },
  {
   "cell_type": "code",
   "execution_count": 43,
   "metadata": {},
   "outputs": [
    {
     "data": {
      "text/plain": [
       "array([<matplotlib.axes._subplots.AxesSubplot object at 0x7f730df87990>],\n",
       "      dtype=object)"
      ]
     },
     "execution_count": 43,
     "metadata": {},
     "output_type": "execute_result"
    },
    {
     "data": {
      "image/png": "[encoded data removed]",
      "text/plain": [
       "<Figure size 1080x360 with 1 Axes>"
      ]
     },
     "metadata": {
      "needs_background": "light"
     },
     "output_type": "display_data"
    }
   ],
   "source": [
    "df = pd.concat([site_7976_visit_data, site_7976_visit_data_2])\n",
    "df.plot(subplots=True, figsize=(15, 5))"
   ]
  },
  {
   "cell_type": "code",
   "execution_count": null,
   "metadata": {},
   "outputs": [],
   "source": [
    "rr_0260_data_file = base_dir + r'/Urban World Predict Challenge Data/RR-0260-RunDataTable.tsv'"
   ]
  },
  {
   "cell_type": "code",
   "execution_count": null,
   "metadata": {},
   "outputs": [],
   "source": [
    "rr_0260_data = pd.read_csv(rr_0260_data_file,delimiter='\\t',encoding='utf-8', index_col=False)\n",
    "del rr_0260_data['Notes']\n",
    "rr_0260_data.head()"
   ]
  },
  {
   "cell_type": "code",
   "execution_count": null,
   "metadata": {},
   "outputs": [],
   "source": [
    "rr_0260_data['VariableName'].unique()"
   ]
  },
  {
   "cell_type": "code",
   "execution_count": null,
   "metadata": {},
   "outputs": [],
   "source": [
    "temp=rr_0260_data[rr_0260_data['VariableName']=='Checkin']\n",
    "rr_0260_site_2629_checkin_data = temp[temp['Value']=='Site-2629']\n",
    "rr_0260_site_5298_checkin_data = temp[temp['Value']=='Site-5298']\n",
    "rr_0260_site_5299_checkin_data = temp[temp['Value']=='Site-5299']\n",
    "rr_0260_site_10648_checkin_data = temp[temp['Value']=='Site-10648']\n",
    "rr_0260_site_7976_checkin_data = temp[temp['Value']=='Site-7976']\n",
    "rr_0260_site_2629_checkin_data"
   ]
  },
  {
   "cell_type": "code",
   "execution_count": null,
   "metadata": {},
   "outputs": [],
   "source": [
    "rr_0260_site_2629_total_checkin_data = rr_0260_site_2629_checkin_data.groupby('Timestep')[['EntityIdx']].count()\n",
    "print(rr_0260_site_2629_total_checkin_data.count())\n",
    "rr_0260_site_2629_total_checkin_data.index = pd.to_datetime(rr_0260_site_2629_total_checkin_data.index)\n",
    "rr_0260_site_2629_total_checkin_data =  rr_0260_site_2629_total_checkin_data.resample('D').sum()\n",
    "rr_0260_site_2629_total_checkin_data.count()"
   ]
  },
  {
   "cell_type": "markdown",
   "metadata": {},
   "source": [
    "<p style=\"font-family: Arial; font-size:1.25em;color:#2462C0; font-style:bold\">\n",
    "rr_0260_data_file</p>"
   ]
  }
 ],
 "metadata": {
  "kernelspec": {
   "display_name": "Python 3",
   "language": "python",
   "name": "python3"
  },
  "language_info": {
   "codemirror_mode": {
    "name": "ipython",
    "version": 3
   },
   "file_extension": ".py",
   "mimetype": "text/x-python",
   "name": "python",
   "nbconvert_exporter": "python",
   "pygments_lexer": "ipython3",
   "version": "3.7.4"
  }
 },
 "nbformat": 4,
 "nbformat_minor": 4
}
